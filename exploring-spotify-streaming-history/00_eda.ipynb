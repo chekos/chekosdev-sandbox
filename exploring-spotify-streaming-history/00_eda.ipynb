{
 "cells": [
  {
   "attachments": {},
   "cell_type": "markdown",
   "metadata": {},
   "source": [
    "# Running some numbers\n",
    "\n",
    "More info: https://www.notion.so/tacosdedatos/analyzing-my-spotify-streaming-history-f545fb62e86d49159a383f950f224e55 "
   ]
  },
  {
   "cell_type": "code",
   "execution_count": 1,
   "metadata": {},
   "outputs": [],
   "source": [
    "import pandas as pd\n",
    "from datetime import datetime as dt\n",
    "import json \n",
    "import altair as alt\n",
    "from rich import print "
   ]
  },
  {
   "cell_type": "code",
   "execution_count": 2,
   "metadata": {},
   "outputs": [],
   "source": [
    "with open(\"tracks.json\") as file:\n",
    "    tracks = json.load(file)"
   ]
  },
  {
   "attachments": {},
   "cell_type": "markdown",
   "metadata": {},
   "source": [
    "## Some questions to answer\n",
    "\n",
    "- What are the most listened to songs during particular times of day?\n",
    "    - By hour\n",
    "    - By time of day (2:00-5:00, 5-8, 8-10, 10-1,1-4,4-7,7-10,10-2)\n",
    "    - An hour before work, an hour after work, saturday morning, sunday morning, monday morning, payday\n",
    "- What are the top 5 songs streamed by month?\n",
    "- Are there any correlations between the songs listened to and the weather?\n",
    "- Are there any patterns in the artist/album/song combinations that are streamed?\n",
    "- Are there any songs with unusually long gaps between streams?\n",
    "    - Average time between streams\n",
    "- What is the most popular artist/album combination?\n",
    "    - Top album by artist\n",
    "        - per plays\n",
    "        - per songs played\n",
    "        - weighted average\n",
    "- What are the most common song pairs?\n",
    "    - Songs I play together\n",
    "    - Songs I play in sequence\n",
    "    - 3-song, 4-song, 5-song streaks\n",
    "- Metrics of my top five:\n",
    "    - streaming patterns/frequency\n",
    "        - time of day\n",
    "        - time of week\n",
    "        - time of month\n",
    "    - by song, album"
   ]
  },
  {
   "cell_type": "code",
   "execution_count": null,
   "metadata": {},
   "outputs": [],
   "source": []
  }
 ],
 "metadata": {
  "kernelspec": {
   "display_name": ".venv",
   "language": "python",
   "name": "python3"
  },
  "language_info": {
   "codemirror_mode": {
    "name": "ipython",
    "version": 3
   },
   "file_extension": ".py",
   "mimetype": "text/x-python",
   "name": "python",
   "nbconvert_exporter": "python",
   "pygments_lexer": "ipython3",
   "version": "3.10.6 (main, Aug 30 2022, 04:58:14) [Clang 13.1.6 (clang-1316.0.21.2.5)]"
  },
  "orig_nbformat": 4,
  "vscode": {
   "interpreter": {
    "hash": "a239d03b2df57c6cc186a6c6180006d190586b8323edcac52e69de623776c524"
   }
  }
 },
 "nbformat": 4,
 "nbformat_minor": 2
}
