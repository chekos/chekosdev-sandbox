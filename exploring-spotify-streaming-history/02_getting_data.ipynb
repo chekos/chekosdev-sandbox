{
 "cells": [
  {
   "cell_type": "code",
   "execution_count": 1,
   "metadata": {},
   "outputs": [],
   "source": [
    "import json\n",
    "\n",
    "import pandas as pd\n",
    "from rich import print \n",
    "from rich.progress import track as track_progress\n",
    "\n",
    "import spotipy\n",
    "from spotipy.oauth2 import SpotifyClientCredentials\n",
    "from dotenv import dotenv_values"
   ]
  },
  {
   "cell_type": "code",
   "execution_count": 2,
   "metadata": {},
   "outputs": [],
   "source": [
    "config = dotenv_values(\"../.env\")\n",
    "\n",
    "client_id = config.get(\"SPOTIFY_CLIENT_ID\", \" \")\n",
    "client_secret = config.get(\"SPOTIFY_CLIENT_SECRET\", \" \")"
   ]
  },
  {
   "cell_type": "code",
   "execution_count": 33,
   "metadata": {},
   "outputs": [],
   "source": [
    "sp = spotipy.Spotify(\n",
    "    client_credentials_manager=SpotifyClientCredentials(\n",
    "        client_id=client_id, client_secret=client_secret\n",
    "    )\n",
    ")"
   ]
  },
  {
   "cell_type": "code",
   "execution_count": 4,
   "metadata": {},
   "outputs": [],
   "source": [
    "def get_track_info(query: str, is_uri: bool = False):\n",
    "    if not is_uri:\n",
    "        search_result = sp.search(query, limit=1, type=\"track\")\n",
    "        if search_result[\"tracks\"][\"items\"]:\n",
    "            track_item = search_result[\"tracks\"][\"items\"][0]\n",
    "        else:\n",
    "            return False\n",
    "    else:\n",
    "        track_item = sp.track(query)\n",
    "    return track_item"
   ]
  },
  {
   "cell_type": "code",
   "execution_count": 5,
   "metadata": {},
   "outputs": [
    {
     "data": {
      "text/html": [
       "<div>\n",
       "<style scoped>\n",
       "    .dataframe tbody tr th:only-of-type {\n",
       "        vertical-align: middle;\n",
       "    }\n",
       "\n",
       "    .dataframe tbody tr th {\n",
       "        vertical-align: top;\n",
       "    }\n",
       "\n",
       "    .dataframe thead th {\n",
       "        text-align: right;\n",
       "    }\n",
       "</style>\n",
       "<table border=\"1\" class=\"dataframe\">\n",
       "  <thead>\n",
       "    <tr style=\"text-align: right;\">\n",
       "      <th></th>\n",
       "      <th>artist</th>\n",
       "      <th>track</th>\n",
       "      <th>endtime</th>\n",
       "      <th>msplayed</th>\n",
       "      <th>album</th>\n",
       "      <th>saved</th>\n",
       "      <th>uri</th>\n",
       "    </tr>\n",
       "  </thead>\n",
       "  <tbody>\n",
       "    <tr>\n",
       "      <th>0</th>\n",
       "      <td>A Tribe Called Quest</td>\n",
       "      <td>Excursions</td>\n",
       "      <td>2022-01-28 21:59</td>\n",
       "      <td>41865</td>\n",
       "      <td>NaN</td>\n",
       "      <td>NaN</td>\n",
       "      <td>NaN</td>\n",
       "    </tr>\n",
       "    <tr>\n",
       "      <th>1</th>\n",
       "      <td>A$AP Ferg</td>\n",
       "      <td>Plain Jane</td>\n",
       "      <td>2022-03-27 02:20</td>\n",
       "      <td>173600</td>\n",
       "      <td>Still Striving</td>\n",
       "      <td>True</td>\n",
       "      <td>spotify:track:4dVpf9jZjcORqGTLUaeYj9</td>\n",
       "    </tr>\n",
       "    <tr>\n",
       "      <th>2</th>\n",
       "      <td>A$AP Ferg</td>\n",
       "      <td>Plain Jane</td>\n",
       "      <td>2022-11-29 01:31</td>\n",
       "      <td>173600</td>\n",
       "      <td>Still Striving</td>\n",
       "      <td>True</td>\n",
       "      <td>spotify:track:4dVpf9jZjcORqGTLUaeYj9</td>\n",
       "    </tr>\n",
       "    <tr>\n",
       "      <th>3</th>\n",
       "      <td>A.C.O</td>\n",
       "      <td>De Madrugada</td>\n",
       "      <td>2022-01-21 02:55</td>\n",
       "      <td>220757</td>\n",
       "      <td>De Madrugada</td>\n",
       "      <td>True</td>\n",
       "      <td>spotify:track:280QqgbMrLeMs6B80mIPG2</td>\n",
       "    </tr>\n",
       "    <tr>\n",
       "      <th>4</th>\n",
       "      <td>A.C.O</td>\n",
       "      <td>De Madrugada</td>\n",
       "      <td>2022-07-18 15:48</td>\n",
       "      <td>220757</td>\n",
       "      <td>De Madrugada</td>\n",
       "      <td>True</td>\n",
       "      <td>spotify:track:280QqgbMrLeMs6B80mIPG2</td>\n",
       "    </tr>\n",
       "    <tr>\n",
       "      <th>...</th>\n",
       "      <td>...</td>\n",
       "      <td>...</td>\n",
       "      <td>...</td>\n",
       "      <td>...</td>\n",
       "      <td>...</td>\n",
       "      <td>...</td>\n",
       "      <td>...</td>\n",
       "    </tr>\n",
       "    <tr>\n",
       "      <th>10071</th>\n",
       "      <td>sofia shizuko</td>\n",
       "      <td>chichiriviche</td>\n",
       "      <td>2022-07-15 00:49</td>\n",
       "      <td>149000</td>\n",
       "      <td>chichiriviche</td>\n",
       "      <td>True</td>\n",
       "      <td>spotify:track:7MNtRrUXrsQwR10o3lvgDP</td>\n",
       "    </tr>\n",
       "    <tr>\n",
       "      <th>10072</th>\n",
       "      <td>sofia shizuko</td>\n",
       "      <td>chichiriviche</td>\n",
       "      <td>2022-07-15 00:55</td>\n",
       "      <td>149000</td>\n",
       "      <td>chichiriviche</td>\n",
       "      <td>True</td>\n",
       "      <td>spotify:track:7MNtRrUXrsQwR10o3lvgDP</td>\n",
       "    </tr>\n",
       "    <tr>\n",
       "      <th>10073</th>\n",
       "      <td>sofia shizuko</td>\n",
       "      <td>chichiriviche</td>\n",
       "      <td>2022-07-16 18:59</td>\n",
       "      <td>69525</td>\n",
       "      <td>chichiriviche</td>\n",
       "      <td>True</td>\n",
       "      <td>spotify:track:7MNtRrUXrsQwR10o3lvgDP</td>\n",
       "    </tr>\n",
       "    <tr>\n",
       "      <th>10074</th>\n",
       "      <td>sofia shizuko</td>\n",
       "      <td>chichiriviche</td>\n",
       "      <td>2022-08-15 19:58</td>\n",
       "      <td>149000</td>\n",
       "      <td>chichiriviche</td>\n",
       "      <td>True</td>\n",
       "      <td>spotify:track:7MNtRrUXrsQwR10o3lvgDP</td>\n",
       "    </tr>\n",
       "    <tr>\n",
       "      <th>10075</th>\n",
       "      <td>Ñengo El Quetzal</td>\n",
       "      <td>Plakka Plakka</td>\n",
       "      <td>2022-07-20 18:45</td>\n",
       "      <td>181054</td>\n",
       "      <td>Plakka Plakka</td>\n",
       "      <td>False</td>\n",
       "      <td>spotify:track:1jzhpaWxMF1x4UtHrrERQW</td>\n",
       "    </tr>\n",
       "  </tbody>\n",
       "</table>\n",
       "<p>10076 rows × 7 columns</p>\n",
       "</div>"
      ],
      "text/plain": [
       "                     artist          track           endtime  msplayed  \\\n",
       "0      A Tribe Called Quest     Excursions  2022-01-28 21:59     41865   \n",
       "1                 A$AP Ferg     Plain Jane  2022-03-27 02:20    173600   \n",
       "2                 A$AP Ferg     Plain Jane  2022-11-29 01:31    173600   \n",
       "3                     A.C.O   De Madrugada  2022-01-21 02:55    220757   \n",
       "4                     A.C.O   De Madrugada  2022-07-18 15:48    220757   \n",
       "...                     ...            ...               ...       ...   \n",
       "10071         sofia shizuko  chichiriviche  2022-07-15 00:49    149000   \n",
       "10072         sofia shizuko  chichiriviche  2022-07-15 00:55    149000   \n",
       "10073         sofia shizuko  chichiriviche  2022-07-16 18:59     69525   \n",
       "10074         sofia shizuko  chichiriviche  2022-08-15 19:58    149000   \n",
       "10075      Ñengo El Quetzal  Plakka Plakka  2022-07-20 18:45    181054   \n",
       "\n",
       "                album  saved                                   uri  \n",
       "0                 NaN    NaN                                   NaN  \n",
       "1      Still Striving   True  spotify:track:4dVpf9jZjcORqGTLUaeYj9  \n",
       "2      Still Striving   True  spotify:track:4dVpf9jZjcORqGTLUaeYj9  \n",
       "3        De Madrugada   True  spotify:track:280QqgbMrLeMs6B80mIPG2  \n",
       "4        De Madrugada   True  spotify:track:280QqgbMrLeMs6B80mIPG2  \n",
       "...               ...    ...                                   ...  \n",
       "10071   chichiriviche   True  spotify:track:7MNtRrUXrsQwR10o3lvgDP  \n",
       "10072   chichiriviche   True  spotify:track:7MNtRrUXrsQwR10o3lvgDP  \n",
       "10073   chichiriviche   True  spotify:track:7MNtRrUXrsQwR10o3lvgDP  \n",
       "10074   chichiriviche   True  spotify:track:7MNtRrUXrsQwR10o3lvgDP  \n",
       "10075   Plakka Plakka  False  spotify:track:1jzhpaWxMF1x4UtHrrERQW  \n",
       "\n",
       "[10076 rows x 7 columns]"
      ]
     },
     "execution_count": 5,
     "metadata": {},
     "output_type": "execute_result"
    }
   ],
   "source": [
    "data = pd.read_csv(\"processed/streaming_history_tracks.csv\")\n",
    "data"
   ]
  },
  {
   "cell_type": "code",
   "execution_count": 6,
   "metadata": {},
   "outputs": [],
   "source": [
    "mask_saved = data['saved'] == True\n",
    "mask_uriquery = data['uri'].isnull() == False\n",
    "mask_searchquery = data['uri'].isnull()"
   ]
  },
  {
   "cell_type": "code",
   "execution_count": 7,
   "metadata": {},
   "outputs": [
    {
     "data": {
      "text/html": [
       "<div>\n",
       "<style scoped>\n",
       "    .dataframe tbody tr th:only-of-type {\n",
       "        vertical-align: middle;\n",
       "    }\n",
       "\n",
       "    .dataframe tbody tr th {\n",
       "        vertical-align: top;\n",
       "    }\n",
       "\n",
       "    .dataframe thead th {\n",
       "        text-align: right;\n",
       "    }\n",
       "</style>\n",
       "<table border=\"1\" class=\"dataframe\">\n",
       "  <thead>\n",
       "    <tr style=\"text-align: right;\">\n",
       "      <th></th>\n",
       "      <th>artist</th>\n",
       "      <th>track</th>\n",
       "      <th>endtime</th>\n",
       "      <th>msplayed</th>\n",
       "      <th>album</th>\n",
       "      <th>saved</th>\n",
       "      <th>uri</th>\n",
       "    </tr>\n",
       "  </thead>\n",
       "  <tbody>\n",
       "    <tr>\n",
       "      <th>1</th>\n",
       "      <td>A$AP Ferg</td>\n",
       "      <td>Plain Jane</td>\n",
       "      <td>2022-03-27 02:20</td>\n",
       "      <td>173600</td>\n",
       "      <td>Still Striving</td>\n",
       "      <td>True</td>\n",
       "      <td>spotify:track:4dVpf9jZjcORqGTLUaeYj9</td>\n",
       "    </tr>\n",
       "    <tr>\n",
       "      <th>2</th>\n",
       "      <td>A$AP Ferg</td>\n",
       "      <td>Plain Jane</td>\n",
       "      <td>2022-11-29 01:31</td>\n",
       "      <td>173600</td>\n",
       "      <td>Still Striving</td>\n",
       "      <td>True</td>\n",
       "      <td>spotify:track:4dVpf9jZjcORqGTLUaeYj9</td>\n",
       "    </tr>\n",
       "    <tr>\n",
       "      <th>3</th>\n",
       "      <td>A.C.O</td>\n",
       "      <td>De Madrugada</td>\n",
       "      <td>2022-01-21 02:55</td>\n",
       "      <td>220757</td>\n",
       "      <td>De Madrugada</td>\n",
       "      <td>True</td>\n",
       "      <td>spotify:track:280QqgbMrLeMs6B80mIPG2</td>\n",
       "    </tr>\n",
       "    <tr>\n",
       "      <th>4</th>\n",
       "      <td>A.C.O</td>\n",
       "      <td>De Madrugada</td>\n",
       "      <td>2022-07-18 15:48</td>\n",
       "      <td>220757</td>\n",
       "      <td>De Madrugada</td>\n",
       "      <td>True</td>\n",
       "      <td>spotify:track:280QqgbMrLeMs6B80mIPG2</td>\n",
       "    </tr>\n",
       "    <tr>\n",
       "      <th>5</th>\n",
       "      <td>A.C.O</td>\n",
       "      <td>De Madrugada</td>\n",
       "      <td>2022-08-10 19:04</td>\n",
       "      <td>182072</td>\n",
       "      <td>De Madrugada</td>\n",
       "      <td>True</td>\n",
       "      <td>spotify:track:280QqgbMrLeMs6B80mIPG2</td>\n",
       "    </tr>\n",
       "    <tr>\n",
       "      <th>...</th>\n",
       "      <td>...</td>\n",
       "      <td>...</td>\n",
       "      <td>...</td>\n",
       "      <td>...</td>\n",
       "      <td>...</td>\n",
       "      <td>...</td>\n",
       "      <td>...</td>\n",
       "    </tr>\n",
       "    <tr>\n",
       "      <th>10070</th>\n",
       "      <td>sofia shizuko</td>\n",
       "      <td>chichiriviche</td>\n",
       "      <td>2022-07-15 00:43</td>\n",
       "      <td>149000</td>\n",
       "      <td>chichiriviche</td>\n",
       "      <td>True</td>\n",
       "      <td>spotify:track:7MNtRrUXrsQwR10o3lvgDP</td>\n",
       "    </tr>\n",
       "    <tr>\n",
       "      <th>10071</th>\n",
       "      <td>sofia shizuko</td>\n",
       "      <td>chichiriviche</td>\n",
       "      <td>2022-07-15 00:49</td>\n",
       "      <td>149000</td>\n",
       "      <td>chichiriviche</td>\n",
       "      <td>True</td>\n",
       "      <td>spotify:track:7MNtRrUXrsQwR10o3lvgDP</td>\n",
       "    </tr>\n",
       "    <tr>\n",
       "      <th>10072</th>\n",
       "      <td>sofia shizuko</td>\n",
       "      <td>chichiriviche</td>\n",
       "      <td>2022-07-15 00:55</td>\n",
       "      <td>149000</td>\n",
       "      <td>chichiriviche</td>\n",
       "      <td>True</td>\n",
       "      <td>spotify:track:7MNtRrUXrsQwR10o3lvgDP</td>\n",
       "    </tr>\n",
       "    <tr>\n",
       "      <th>10073</th>\n",
       "      <td>sofia shizuko</td>\n",
       "      <td>chichiriviche</td>\n",
       "      <td>2022-07-16 18:59</td>\n",
       "      <td>69525</td>\n",
       "      <td>chichiriviche</td>\n",
       "      <td>True</td>\n",
       "      <td>spotify:track:7MNtRrUXrsQwR10o3lvgDP</td>\n",
       "    </tr>\n",
       "    <tr>\n",
       "      <th>10074</th>\n",
       "      <td>sofia shizuko</td>\n",
       "      <td>chichiriviche</td>\n",
       "      <td>2022-08-15 19:58</td>\n",
       "      <td>149000</td>\n",
       "      <td>chichiriviche</td>\n",
       "      <td>True</td>\n",
       "      <td>spotify:track:7MNtRrUXrsQwR10o3lvgDP</td>\n",
       "    </tr>\n",
       "  </tbody>\n",
       "</table>\n",
       "<p>7715 rows × 7 columns</p>\n",
       "</div>"
      ],
      "text/plain": [
       "              artist          track           endtime  msplayed  \\\n",
       "1          A$AP Ferg     Plain Jane  2022-03-27 02:20    173600   \n",
       "2          A$AP Ferg     Plain Jane  2022-11-29 01:31    173600   \n",
       "3              A.C.O   De Madrugada  2022-01-21 02:55    220757   \n",
       "4              A.C.O   De Madrugada  2022-07-18 15:48    220757   \n",
       "5              A.C.O   De Madrugada  2022-08-10 19:04    182072   \n",
       "...              ...            ...               ...       ...   \n",
       "10070  sofia shizuko  chichiriviche  2022-07-15 00:43    149000   \n",
       "10071  sofia shizuko  chichiriviche  2022-07-15 00:49    149000   \n",
       "10072  sofia shizuko  chichiriviche  2022-07-15 00:55    149000   \n",
       "10073  sofia shizuko  chichiriviche  2022-07-16 18:59     69525   \n",
       "10074  sofia shizuko  chichiriviche  2022-08-15 19:58    149000   \n",
       "\n",
       "                album saved                                   uri  \n",
       "1      Still Striving  True  spotify:track:4dVpf9jZjcORqGTLUaeYj9  \n",
       "2      Still Striving  True  spotify:track:4dVpf9jZjcORqGTLUaeYj9  \n",
       "3        De Madrugada  True  spotify:track:280QqgbMrLeMs6B80mIPG2  \n",
       "4        De Madrugada  True  spotify:track:280QqgbMrLeMs6B80mIPG2  \n",
       "5        De Madrugada  True  spotify:track:280QqgbMrLeMs6B80mIPG2  \n",
       "...               ...   ...                                   ...  \n",
       "10070   chichiriviche  True  spotify:track:7MNtRrUXrsQwR10o3lvgDP  \n",
       "10071   chichiriviche  True  spotify:track:7MNtRrUXrsQwR10o3lvgDP  \n",
       "10072   chichiriviche  True  spotify:track:7MNtRrUXrsQwR10o3lvgDP  \n",
       "10073   chichiriviche  True  spotify:track:7MNtRrUXrsQwR10o3lvgDP  \n",
       "10074   chichiriviche  True  spotify:track:7MNtRrUXrsQwR10o3lvgDP  \n",
       "\n",
       "[7715 rows x 7 columns]"
      ]
     },
     "execution_count": 7,
     "metadata": {},
     "output_type": "execute_result"
    }
   ],
   "source": [
    "data[mask_saved]"
   ]
  },
  {
   "cell_type": "code",
   "execution_count": 8,
   "metadata": {},
   "outputs": [
    {
     "data": {
      "text/html": [
       "<div>\n",
       "<style scoped>\n",
       "    .dataframe tbody tr th:only-of-type {\n",
       "        vertical-align: middle;\n",
       "    }\n",
       "\n",
       "    .dataframe tbody tr th {\n",
       "        vertical-align: top;\n",
       "    }\n",
       "\n",
       "    .dataframe thead th {\n",
       "        text-align: right;\n",
       "    }\n",
       "</style>\n",
       "<table border=\"1\" class=\"dataframe\">\n",
       "  <thead>\n",
       "    <tr style=\"text-align: right;\">\n",
       "      <th></th>\n",
       "      <th>artist</th>\n",
       "      <th>track</th>\n",
       "      <th>album</th>\n",
       "      <th>uri</th>\n",
       "    </tr>\n",
       "  </thead>\n",
       "  <tbody>\n",
       "    <tr>\n",
       "      <th>10</th>\n",
       "      <td>Ab-Soul</td>\n",
       "      <td>D.R.U.G.S.</td>\n",
       "      <td>Do What Thou Wilt.</td>\n",
       "      <td>spotify:track:09avKKLKXaJcbeaGTmLCOs</td>\n",
       "    </tr>\n",
       "    <tr>\n",
       "      <th>25</th>\n",
       "      <td>Adán Cruz</td>\n",
       "      <td>Al Revés</td>\n",
       "      <td>Necesitaba Estar Hecho</td>\n",
       "      <td>spotify:track:50HQhGR7vgorRGHSRLS16M</td>\n",
       "    </tr>\n",
       "    <tr>\n",
       "      <th>37</th>\n",
       "      <td>Adán Cruz</td>\n",
       "      <td>Alma Tornasol</td>\n",
       "      <td>Necesitaba Estar Hecho</td>\n",
       "      <td>spotify:track:7636nP8BXuoxjVw1x76Erh</td>\n",
       "    </tr>\n",
       "    <tr>\n",
       "      <th>39</th>\n",
       "      <td>Adán Cruz</td>\n",
       "      <td>Be Alright</td>\n",
       "      <td>Necesitaba Estar Hecho</td>\n",
       "      <td>spotify:track:4fyxtLbwPvL61EIRdXYBIK</td>\n",
       "    </tr>\n",
       "    <tr>\n",
       "      <th>45</th>\n",
       "      <td>Adán Cruz</td>\n",
       "      <td>Cola</td>\n",
       "      <td>Necesitaba Estar Hecho</td>\n",
       "      <td>spotify:track:03JRYiGqFHGiGNnIljr0S2</td>\n",
       "    </tr>\n",
       "    <tr>\n",
       "      <th>...</th>\n",
       "      <td>...</td>\n",
       "      <td>...</td>\n",
       "      <td>...</td>\n",
       "      <td>...</td>\n",
       "    </tr>\n",
       "    <tr>\n",
       "      <th>10027</th>\n",
       "      <td>Yoss Bones</td>\n",
       "      <td>Ya No Quiero</td>\n",
       "      <td>Bones</td>\n",
       "      <td>spotify:track:4s2hbYx5uMpHiWTS6frjJW</td>\n",
       "    </tr>\n",
       "    <tr>\n",
       "      <th>10049</th>\n",
       "      <td>Zona Ganjah</td>\n",
       "      <td>Fumando Vamos a Casa</td>\n",
       "      <td>Sanazion</td>\n",
       "      <td>spotify:track:4O8jfikpUqtZvWV7PAUwTv</td>\n",
       "    </tr>\n",
       "    <tr>\n",
       "      <th>10052</th>\n",
       "      <td>Zoé</td>\n",
       "      <td>Poli / Love - En Vivo</td>\n",
       "      <td>MTV Unplugged Música De Fondo</td>\n",
       "      <td>spotify:track:3YOFkHuCdj7ikHyy4SsKGB</td>\n",
       "    </tr>\n",
       "    <tr>\n",
       "      <th>10054</th>\n",
       "      <td>Zoé</td>\n",
       "      <td>Soñé - En Vivo</td>\n",
       "      <td>MTV Unplugged Música De Fondo</td>\n",
       "      <td>spotify:track:2VhJ4nrPorAbySEgO4V0BS</td>\n",
       "    </tr>\n",
       "    <tr>\n",
       "      <th>10075</th>\n",
       "      <td>Ñengo El Quetzal</td>\n",
       "      <td>Plakka Plakka</td>\n",
       "      <td>Plakka Plakka</td>\n",
       "      <td>spotify:track:1jzhpaWxMF1x4UtHrrERQW</td>\n",
       "    </tr>\n",
       "  </tbody>\n",
       "</table>\n",
       "<p>370 rows × 4 columns</p>\n",
       "</div>"
      ],
      "text/plain": [
       "                 artist                  track                          album  \\\n",
       "10              Ab-Soul             D.R.U.G.S.             Do What Thou Wilt.   \n",
       "25            Adán Cruz               Al Revés         Necesitaba Estar Hecho   \n",
       "37            Adán Cruz          Alma Tornasol         Necesitaba Estar Hecho   \n",
       "39            Adán Cruz             Be Alright         Necesitaba Estar Hecho   \n",
       "45            Adán Cruz                   Cola         Necesitaba Estar Hecho   \n",
       "...                 ...                    ...                            ...   \n",
       "10027        Yoss Bones           Ya No Quiero                          Bones   \n",
       "10049       Zona Ganjah   Fumando Vamos a Casa                       Sanazion   \n",
       "10052               Zoé  Poli / Love - En Vivo  MTV Unplugged Música De Fondo   \n",
       "10054               Zoé         Soñé - En Vivo  MTV Unplugged Música De Fondo   \n",
       "10075  Ñengo El Quetzal          Plakka Plakka                  Plakka Plakka   \n",
       "\n",
       "                                        uri  \n",
       "10     spotify:track:09avKKLKXaJcbeaGTmLCOs  \n",
       "25     spotify:track:50HQhGR7vgorRGHSRLS16M  \n",
       "37     spotify:track:7636nP8BXuoxjVw1x76Erh  \n",
       "39     spotify:track:4fyxtLbwPvL61EIRdXYBIK  \n",
       "45     spotify:track:03JRYiGqFHGiGNnIljr0S2  \n",
       "...                                     ...  \n",
       "10027  spotify:track:4s2hbYx5uMpHiWTS6frjJW  \n",
       "10049  spotify:track:4O8jfikpUqtZvWV7PAUwTv  \n",
       "10052  spotify:track:3YOFkHuCdj7ikHyy4SsKGB  \n",
       "10054  spotify:track:2VhJ4nrPorAbySEgO4V0BS  \n",
       "10075  spotify:track:1jzhpaWxMF1x4UtHrrERQW  \n",
       "\n",
       "[370 rows x 4 columns]"
      ]
     },
     "execution_count": 8,
     "metadata": {},
     "output_type": "execute_result"
    }
   ],
   "source": [
    "uri_query_df = data[~mask_saved & mask_uriquery][['artist', 'track', 'album', 'uri']].drop_duplicates()\n",
    "uri_query_df"
   ]
  },
  {
   "cell_type": "code",
   "execution_count": 9,
   "metadata": {},
   "outputs": [
    {
     "data": {
      "text/html": [
       "<div>\n",
       "<style scoped>\n",
       "    .dataframe tbody tr th:only-of-type {\n",
       "        vertical-align: middle;\n",
       "    }\n",
       "\n",
       "    .dataframe tbody tr th {\n",
       "        vertical-align: top;\n",
       "    }\n",
       "\n",
       "    .dataframe thead th {\n",
       "        text-align: right;\n",
       "    }\n",
       "</style>\n",
       "<table border=\"1\" class=\"dataframe\">\n",
       "  <thead>\n",
       "    <tr style=\"text-align: right;\">\n",
       "      <th></th>\n",
       "      <th>artist</th>\n",
       "      <th>track</th>\n",
       "      <th>album</th>\n",
       "      <th>uri</th>\n",
       "    </tr>\n",
       "  </thead>\n",
       "  <tbody>\n",
       "    <tr>\n",
       "      <th>0</th>\n",
       "      <td>A Tribe Called Quest</td>\n",
       "      <td>Excursions</td>\n",
       "      <td>NaN</td>\n",
       "      <td>NaN</td>\n",
       "    </tr>\n",
       "    <tr>\n",
       "      <th>38</th>\n",
       "      <td>Adán Cruz</td>\n",
       "      <td>Astronauta de Tus Lunares</td>\n",
       "      <td>NaN</td>\n",
       "      <td>NaN</td>\n",
       "    </tr>\n",
       "    <tr>\n",
       "      <th>43</th>\n",
       "      <td>Adán Cruz</td>\n",
       "      <td>Cbb</td>\n",
       "      <td>NaN</td>\n",
       "      <td>NaN</td>\n",
       "    </tr>\n",
       "    <tr>\n",
       "      <th>69</th>\n",
       "      <td>Adán Cruz</td>\n",
       "      <td>Mucho Plastic</td>\n",
       "      <td>NaN</td>\n",
       "      <td>NaN</td>\n",
       "    </tr>\n",
       "    <tr>\n",
       "      <th>71</th>\n",
       "      <td>Adán Cruz</td>\n",
       "      <td>Pausa</td>\n",
       "      <td>NaN</td>\n",
       "      <td>NaN</td>\n",
       "    </tr>\n",
       "    <tr>\n",
       "      <th>...</th>\n",
       "      <td>...</td>\n",
       "      <td>...</td>\n",
       "      <td>...</td>\n",
       "      <td>...</td>\n",
       "    </tr>\n",
       "    <tr>\n",
       "      <th>9963</th>\n",
       "      <td>Yoga Fire</td>\n",
       "      <td>Por Gangster</td>\n",
       "      <td>NaN</td>\n",
       "      <td>NaN</td>\n",
       "    </tr>\n",
       "    <tr>\n",
       "      <th>10043</th>\n",
       "      <td>Zack Knight</td>\n",
       "      <td>Looking For Love</td>\n",
       "      <td>NaN</td>\n",
       "      <td>NaN</td>\n",
       "    </tr>\n",
       "    <tr>\n",
       "      <th>10044</th>\n",
       "      <td>Zimple</td>\n",
       "      <td>Mamacita</td>\n",
       "      <td>NaN</td>\n",
       "      <td>NaN</td>\n",
       "    </tr>\n",
       "    <tr>\n",
       "      <th>10053</th>\n",
       "      <td>Zoé</td>\n",
       "      <td>Popular</td>\n",
       "      <td>NaN</td>\n",
       "      <td>NaN</td>\n",
       "    </tr>\n",
       "    <tr>\n",
       "      <th>10055</th>\n",
       "      <td>beabadoobee</td>\n",
       "      <td>Sun More Often</td>\n",
       "      <td>NaN</td>\n",
       "      <td>NaN</td>\n",
       "    </tr>\n",
       "  </tbody>\n",
       "</table>\n",
       "<p>579 rows × 4 columns</p>\n",
       "</div>"
      ],
      "text/plain": [
       "                     artist                      track album  uri\n",
       "0      A Tribe Called Quest                 Excursions   NaN  NaN\n",
       "38                Adán Cruz  Astronauta de Tus Lunares   NaN  NaN\n",
       "43                Adán Cruz                        Cbb   NaN  NaN\n",
       "69                Adán Cruz              Mucho Plastic   NaN  NaN\n",
       "71                Adán Cruz                      Pausa   NaN  NaN\n",
       "...                     ...                        ...   ...  ...\n",
       "9963              Yoga Fire               Por Gangster   NaN  NaN\n",
       "10043           Zack Knight           Looking For Love   NaN  NaN\n",
       "10044                Zimple                   Mamacita   NaN  NaN\n",
       "10053                   Zoé                    Popular   NaN  NaN\n",
       "10055           beabadoobee             Sun More Often   NaN  NaN\n",
       "\n",
       "[579 rows x 4 columns]"
      ]
     },
     "execution_count": 9,
     "metadata": {},
     "output_type": "execute_result"
    }
   ],
   "source": [
    "search_query_df = data[~mask_saved & mask_searchquery][['artist', 'track', 'album', 'uri']].drop_duplicates()\n",
    "search_query_df"
   ]
  },
  {
   "cell_type": "code",
   "execution_count": 19,
   "metadata": {},
   "outputs": [
    {
     "data": {
      "text/html": [
       "<div>\n",
       "<style scoped>\n",
       "    .dataframe tbody tr th:only-of-type {\n",
       "        vertical-align: middle;\n",
       "    }\n",
       "\n",
       "    .dataframe tbody tr th {\n",
       "        vertical-align: top;\n",
       "    }\n",
       "\n",
       "    .dataframe thead th {\n",
       "        text-align: right;\n",
       "    }\n",
       "</style>\n",
       "<table border=\"1\" class=\"dataframe\">\n",
       "  <thead>\n",
       "    <tr style=\"text-align: right;\">\n",
       "      <th></th>\n",
       "      <th>artist</th>\n",
       "      <th>track</th>\n",
       "      <th>album</th>\n",
       "      <th>uri</th>\n",
       "    </tr>\n",
       "  </thead>\n",
       "  <tbody>\n",
       "    <tr>\n",
       "      <th>543</th>\n",
       "      <td>Arca</td>\n",
       "      <td>Prada</td>\n",
       "      <td>NaN</td>\n",
       "      <td>NaN</td>\n",
       "    </tr>\n",
       "    <tr>\n",
       "      <th>544</th>\n",
       "      <td>Arca</td>\n",
       "      <td>Tiro</td>\n",
       "      <td>NaN</td>\n",
       "      <td>NaN</td>\n",
       "    </tr>\n",
       "  </tbody>\n",
       "</table>\n",
       "</div>"
      ],
      "text/plain": [
       "    artist  track album  uri\n",
       "543   Arca  Prada   NaN  NaN\n",
       "544   Arca   Tiro   NaN  NaN"
      ]
     },
     "execution_count": 19,
     "metadata": {},
     "output_type": "execute_result"
    }
   ],
   "source": [
    "search_query_df[search_query_df['artist'] == 'Arca']"
   ]
  },
  {
   "cell_type": "code",
   "execution_count": 10,
   "metadata": {},
   "outputs": [],
   "source": [
    "search_queries = []\n",
    "for row in search_query_df.itertuples():\n",
    "    search_queries.append(f\"{row.artist} {row.track}\")"
   ]
  },
  {
   "cell_type": "code",
   "execution_count": 32,
   "metadata": {},
   "outputs": [],
   "source": [
    "uri_queries = []\n",
    "for row in uri_query_df.itertuples():\n",
    "    uri_queries.append(row.uri)"
   ]
  },
  {
   "cell_type": "code",
   "execution_count": 20,
   "metadata": {},
   "outputs": [
    {
     "data": {
      "text/html": [
       "<pre style=\"white-space:pre;overflow-x:auto;line-height:normal;font-family:Menlo,'DejaVu Sans Mono',consolas,'Courier New',monospace\">\n",
       "search queries - <span style=\"color: #008080; text-decoration-color: #008080; font-weight: bold\">579</span>\n",
       "uri queries - <span style=\"color: #008080; text-decoration-color: #008080; font-weight: bold\">370</span>\n",
       "\n",
       "</pre>\n"
      ],
      "text/plain": [
       "\n",
       "search queries - \u001b[1;36m579\u001b[0m\n",
       "uri queries - \u001b[1;36m370\u001b[0m\n",
       "\n"
      ]
     },
     "metadata": {},
     "output_type": "display_data"
    }
   ],
   "source": [
    "print(f\"\"\"\n",
    "search queries - {len(search_queries)}\n",
    "uri queries - {len(uri_queries)}\n",
    "\"\"\")"
   ]
  },
  {
   "cell_type": "code",
   "execution_count": 13,
   "metadata": {},
   "outputs": [],
   "source": [
    "skipped_queries = []\n",
    "tracks_info = []\n",
    "tracks_audio_features = []\n"
   ]
  },
  {
   "cell_type": "code",
   "execution_count": 14,
   "metadata": {},
   "outputs": [
    {
     "data": {
      "text/html": [
       "<pre style=\"white-space:pre;overflow-x:auto;line-height:normal;font-family:Menlo,'DejaVu Sans Mono',consolas,'Courier New',monospace\"></pre>\n"
      ],
      "text/plain": [
       "\u001b[?25l"
      ]
     },
     "metadata": {},
     "output_type": "display_data"
    },
    {
     "data": {
      "application/vnd.jupyter.widget-view+json": {
       "model_id": "20b2400587d24fb1ac1962412610127f",
       "version_major": 2,
       "version_minor": 0
      },
      "text/plain": [
       "Output()"
      ]
     },
     "metadata": {},
     "output_type": "display_data"
    },
    {
     "data": {
      "text/html": [
       "<pre style=\"white-space:pre;overflow-x:auto;line-height:normal;font-family:Menlo,'DejaVu Sans Mono',consolas,'Courier New',monospace\">\n",
       "</pre>\n"
      ],
      "text/plain": [
       "\n",
       "\u001b[?25h"
      ]
     },
     "metadata": {},
     "output_type": "display_data"
    }
   ],
   "source": [
    "for query in track_progress(\n",
    "    search_queries,\n",
    "    total=len(search_queries),\n",
    "    description=\"Search queries: \",\n",
    "):\n",
    "    track_info = get_track_info(query)\n",
    "    if track_info:\n",
    "        tracks_info.append(track_info)\n",
    "        track_audio_features = sp.audio_features(track_info[\"uri\"])[0]\n",
    "        if track_audio_features:\n",
    "            tracks_audio_features.append(track_audio_features)\n",
    "    else:\n",
    "        skipped_queries.append(query)"
   ]
  },
  {
   "cell_type": "code",
   "execution_count": 34,
   "metadata": {},
   "outputs": [
    {
     "data": {
      "text/html": [
       "<pre style=\"white-space:pre;overflow-x:auto;line-height:normal;font-family:Menlo,'DejaVu Sans Mono',consolas,'Courier New',monospace\"></pre>\n"
      ],
      "text/plain": [
       "\u001b[?25l"
      ]
     },
     "metadata": {},
     "output_type": "display_data"
    },
    {
     "data": {
      "application/vnd.jupyter.widget-view+json": {
       "model_id": "08c347a21e2a479cbdd021e0db38047f",
       "version_major": 2,
       "version_minor": 0
      },
      "text/plain": [
       "Output()"
      ]
     },
     "metadata": {},
     "output_type": "display_data"
    },
    {
     "data": {
      "text/html": [
       "<pre style=\"white-space:pre;overflow-x:auto;line-height:normal;font-family:Menlo,'DejaVu Sans Mono',consolas,'Courier New',monospace\">\n",
       "</pre>\n"
      ],
      "text/plain": [
       "\n",
       "\u001b[?25h"
      ]
     },
     "metadata": {},
     "output_type": "display_data"
    }
   ],
   "source": [
    "adhoc_tracks_info = []\n",
    "adhoc_audio_features = []\n",
    "adhoc_skipped_queries = []\n",
    "\n",
    "for query in track_progress(\n",
    "    uri_queries,\n",
    "    total=len(uri_queries),\n",
    "    description=\"URI queries: \",\n",
    "):\n",
    "    track_info = get_track_info(query, is_uri = True)\n",
    "    if track_info:\n",
    "        adhoc_tracks_info.append(track_info)\n",
    "        track_audio_features = sp.audio_features(track_info[\"uri\"])[0]\n",
    "        if track_audio_features:\n",
    "            adhoc_audio_features.append(track_audio_features)\n",
    "    else:\n",
    "        adhoc_skipped_queries.append(query)"
   ]
  },
  {
   "cell_type": "code",
   "execution_count": 16,
   "metadata": {},
   "outputs": [
    {
     "data": {
      "text/html": [
       "<pre style=\"white-space:pre;overflow-x:auto;line-height:normal;font-family:Menlo,'DejaVu Sans Mono',consolas,'Courier New',monospace\">\n",
       "skipped - <span style=\"color: #008080; text-decoration-color: #008080; font-weight: bold\">0</span>\n",
       "track info - <span style=\"color: #008080; text-decoration-color: #008080; font-weight: bold\">949</span>\n",
       "w/ audio features - <span style=\"color: #008080; text-decoration-color: #008080; font-weight: bold\">949</span>\n",
       "\n",
       "</pre>\n"
      ],
      "text/plain": [
       "\n",
       "skipped - \u001b[1;36m0\u001b[0m\n",
       "track info - \u001b[1;36m949\u001b[0m\n",
       "w/ audio features - \u001b[1;36m949\u001b[0m\n",
       "\n"
      ]
     },
     "metadata": {},
     "output_type": "display_data"
    }
   ],
   "source": [
    "print(f\"\"\"\n",
    "skipped - {len(skipped_queries)}\n",
    "track info - {len(tracks_info)}\n",
    "w/ audio features - {len(tracks_audio_features)}\n",
    "\"\"\")"
   ]
  },
  {
   "cell_type": "code",
   "execution_count": 31,
   "metadata": {},
   "outputs": [
    {
     "data": {
      "text/html": [
       "<pre style=\"white-space:pre;overflow-x:auto;line-height:normal;font-family:Menlo,'DejaVu Sans Mono',consolas,'Courier New',monospace\"></pre>\n"
      ],
      "text/plain": [
       "\u001b[?25l"
      ]
     },
     "metadata": {},
     "output_type": "display_data"
    },
    {
     "data": {
      "application/vnd.jupyter.widget-view+json": {
       "model_id": "bd2e339f2c1a400b8f6affcd66e5ce52",
       "version_major": 2,
       "version_minor": 0
      },
      "text/plain": [
       "Output()"
      ]
     },
     "metadata": {},
     "output_type": "display_data"
    },
    {
     "data": {
      "text/html": [
       "<pre style=\"white-space:pre;overflow-x:auto;line-height:normal;font-family:Menlo,'DejaVu Sans Mono',consolas,'Courier New',monospace\">\n",
       "</pre>\n"
      ],
      "text/plain": [
       "\n",
       "\u001b[?25h"
      ]
     },
     "metadata": {},
     "output_type": "display_data"
    },
    {
     "ename": "ConnectionError",
     "evalue": "('Connection aborted.', RemoteDisconnected('Remote end closed connection without response'))",
     "output_type": "error",
     "traceback": [
      "\u001b[0;31m---------------------------------------------------------------------------\u001b[0m",
      "\u001b[0;31mRemoteDisconnected\u001b[0m                        Traceback (most recent call last)",
      "File \u001b[0;32m~/projects/chekosdev-sandbox/.venv/lib/python3.10/site-packages/urllib3/connectionpool.py:703\u001b[0m, in \u001b[0;36mHTTPConnectionPool.urlopen\u001b[0;34m(self, method, url, body, headers, retries, redirect, assert_same_host, timeout, pool_timeout, release_conn, chunked, body_pos, **response_kw)\u001b[0m\n\u001b[1;32m    702\u001b[0m \u001b[39m# Make the request on the httplib connection object.\u001b[39;00m\n\u001b[0;32m--> 703\u001b[0m httplib_response \u001b[39m=\u001b[39m \u001b[39mself\u001b[39;49m\u001b[39m.\u001b[39;49m_make_request(\n\u001b[1;32m    704\u001b[0m     conn,\n\u001b[1;32m    705\u001b[0m     method,\n\u001b[1;32m    706\u001b[0m     url,\n\u001b[1;32m    707\u001b[0m     timeout\u001b[39m=\u001b[39;49mtimeout_obj,\n\u001b[1;32m    708\u001b[0m     body\u001b[39m=\u001b[39;49mbody,\n\u001b[1;32m    709\u001b[0m     headers\u001b[39m=\u001b[39;49mheaders,\n\u001b[1;32m    710\u001b[0m     chunked\u001b[39m=\u001b[39;49mchunked,\n\u001b[1;32m    711\u001b[0m )\n\u001b[1;32m    713\u001b[0m \u001b[39m# If we're going to release the connection in ``finally:``, then\u001b[39;00m\n\u001b[1;32m    714\u001b[0m \u001b[39m# the response doesn't need to know about the connection. Otherwise\u001b[39;00m\n\u001b[1;32m    715\u001b[0m \u001b[39m# it will also try to release it and we'll have a double-release\u001b[39;00m\n\u001b[1;32m    716\u001b[0m \u001b[39m# mess.\u001b[39;00m\n",
      "File \u001b[0;32m~/projects/chekosdev-sandbox/.venv/lib/python3.10/site-packages/urllib3/connectionpool.py:449\u001b[0m, in \u001b[0;36mHTTPConnectionPool._make_request\u001b[0;34m(self, conn, method, url, timeout, chunked, **httplib_request_kw)\u001b[0m\n\u001b[1;32m    445\u001b[0m         \u001b[39mexcept\u001b[39;00m \u001b[39mBaseException\u001b[39;00m \u001b[39mas\u001b[39;00m e:\n\u001b[1;32m    446\u001b[0m             \u001b[39m# Remove the TypeError from the exception chain in\u001b[39;00m\n\u001b[1;32m    447\u001b[0m             \u001b[39m# Python 3 (including for exceptions like SystemExit).\u001b[39;00m\n\u001b[1;32m    448\u001b[0m             \u001b[39m# Otherwise it looks like a bug in the code.\u001b[39;00m\n\u001b[0;32m--> 449\u001b[0m             six\u001b[39m.\u001b[39;49mraise_from(e, \u001b[39mNone\u001b[39;49;00m)\n\u001b[1;32m    450\u001b[0m \u001b[39mexcept\u001b[39;00m (SocketTimeout, BaseSSLError, SocketError) \u001b[39mas\u001b[39;00m e:\n",
      "File \u001b[0;32m<string>:3\u001b[0m, in \u001b[0;36mraise_from\u001b[0;34m(value, from_value)\u001b[0m\n",
      "File \u001b[0;32m~/projects/chekosdev-sandbox/.venv/lib/python3.10/site-packages/urllib3/connectionpool.py:444\u001b[0m, in \u001b[0;36mHTTPConnectionPool._make_request\u001b[0;34m(self, conn, method, url, timeout, chunked, **httplib_request_kw)\u001b[0m\n\u001b[1;32m    443\u001b[0m \u001b[39mtry\u001b[39;00m:\n\u001b[0;32m--> 444\u001b[0m     httplib_response \u001b[39m=\u001b[39m conn\u001b[39m.\u001b[39;49mgetresponse()\n\u001b[1;32m    445\u001b[0m \u001b[39mexcept\u001b[39;00m \u001b[39mBaseException\u001b[39;00m \u001b[39mas\u001b[39;00m e:\n\u001b[1;32m    446\u001b[0m     \u001b[39m# Remove the TypeError from the exception chain in\u001b[39;00m\n\u001b[1;32m    447\u001b[0m     \u001b[39m# Python 3 (including for exceptions like SystemExit).\u001b[39;00m\n\u001b[1;32m    448\u001b[0m     \u001b[39m# Otherwise it looks like a bug in the code.\u001b[39;00m\n",
      "File \u001b[0;32m/opt/homebrew/Cellar/python@3.10/3.10.6_2/Frameworks/Python.framework/Versions/3.10/lib/python3.10/http/client.py:1374\u001b[0m, in \u001b[0;36mHTTPConnection.getresponse\u001b[0;34m(self)\u001b[0m\n\u001b[1;32m   1373\u001b[0m \u001b[39mtry\u001b[39;00m:\n\u001b[0;32m-> 1374\u001b[0m     response\u001b[39m.\u001b[39;49mbegin()\n\u001b[1;32m   1375\u001b[0m \u001b[39mexcept\u001b[39;00m \u001b[39mConnectionError\u001b[39;00m:\n",
      "File \u001b[0;32m/opt/homebrew/Cellar/python@3.10/3.10.6_2/Frameworks/Python.framework/Versions/3.10/lib/python3.10/http/client.py:318\u001b[0m, in \u001b[0;36mHTTPResponse.begin\u001b[0;34m(self)\u001b[0m\n\u001b[1;32m    317\u001b[0m \u001b[39mwhile\u001b[39;00m \u001b[39mTrue\u001b[39;00m:\n\u001b[0;32m--> 318\u001b[0m     version, status, reason \u001b[39m=\u001b[39m \u001b[39mself\u001b[39;49m\u001b[39m.\u001b[39;49m_read_status()\n\u001b[1;32m    319\u001b[0m     \u001b[39mif\u001b[39;00m status \u001b[39m!=\u001b[39m CONTINUE:\n",
      "File \u001b[0;32m/opt/homebrew/Cellar/python@3.10/3.10.6_2/Frameworks/Python.framework/Versions/3.10/lib/python3.10/http/client.py:287\u001b[0m, in \u001b[0;36mHTTPResponse._read_status\u001b[0;34m(self)\u001b[0m\n\u001b[1;32m    284\u001b[0m \u001b[39mif\u001b[39;00m \u001b[39mnot\u001b[39;00m line:\n\u001b[1;32m    285\u001b[0m     \u001b[39m# Presumably, the server closed the connection before\u001b[39;00m\n\u001b[1;32m    286\u001b[0m     \u001b[39m# sending a valid response.\u001b[39;00m\n\u001b[0;32m--> 287\u001b[0m     \u001b[39mraise\u001b[39;00m RemoteDisconnected(\u001b[39m\"\u001b[39m\u001b[39mRemote end closed connection without\u001b[39m\u001b[39m\"\u001b[39m\n\u001b[1;32m    288\u001b[0m                              \u001b[39m\"\u001b[39m\u001b[39m response\u001b[39m\u001b[39m\"\u001b[39m)\n\u001b[1;32m    289\u001b[0m \u001b[39mtry\u001b[39;00m:\n",
      "\u001b[0;31mRemoteDisconnected\u001b[0m: Remote end closed connection without response",
      "\nDuring handling of the above exception, another exception occurred:\n",
      "\u001b[0;31mProtocolError\u001b[0m                             Traceback (most recent call last)",
      "File \u001b[0;32m~/projects/chekosdev-sandbox/.venv/lib/python3.10/site-packages/requests/adapters.py:489\u001b[0m, in \u001b[0;36mHTTPAdapter.send\u001b[0;34m(self, request, stream, timeout, verify, cert, proxies)\u001b[0m\n\u001b[1;32m    488\u001b[0m \u001b[39mif\u001b[39;00m \u001b[39mnot\u001b[39;00m chunked:\n\u001b[0;32m--> 489\u001b[0m     resp \u001b[39m=\u001b[39m conn\u001b[39m.\u001b[39;49murlopen(\n\u001b[1;32m    490\u001b[0m         method\u001b[39m=\u001b[39;49mrequest\u001b[39m.\u001b[39;49mmethod,\n\u001b[1;32m    491\u001b[0m         url\u001b[39m=\u001b[39;49murl,\n\u001b[1;32m    492\u001b[0m         body\u001b[39m=\u001b[39;49mrequest\u001b[39m.\u001b[39;49mbody,\n\u001b[1;32m    493\u001b[0m         headers\u001b[39m=\u001b[39;49mrequest\u001b[39m.\u001b[39;49mheaders,\n\u001b[1;32m    494\u001b[0m         redirect\u001b[39m=\u001b[39;49m\u001b[39mFalse\u001b[39;49;00m,\n\u001b[1;32m    495\u001b[0m         assert_same_host\u001b[39m=\u001b[39;49m\u001b[39mFalse\u001b[39;49;00m,\n\u001b[1;32m    496\u001b[0m         preload_content\u001b[39m=\u001b[39;49m\u001b[39mFalse\u001b[39;49;00m,\n\u001b[1;32m    497\u001b[0m         decode_content\u001b[39m=\u001b[39;49m\u001b[39mFalse\u001b[39;49;00m,\n\u001b[1;32m    498\u001b[0m         retries\u001b[39m=\u001b[39;49m\u001b[39mself\u001b[39;49m\u001b[39m.\u001b[39;49mmax_retries,\n\u001b[1;32m    499\u001b[0m         timeout\u001b[39m=\u001b[39;49mtimeout,\n\u001b[1;32m    500\u001b[0m     )\n\u001b[1;32m    502\u001b[0m \u001b[39m# Send the request.\u001b[39;00m\n\u001b[1;32m    503\u001b[0m \u001b[39melse\u001b[39;00m:\n",
      "File \u001b[0;32m~/projects/chekosdev-sandbox/.venv/lib/python3.10/site-packages/urllib3/connectionpool.py:787\u001b[0m, in \u001b[0;36mHTTPConnectionPool.urlopen\u001b[0;34m(self, method, url, body, headers, retries, redirect, assert_same_host, timeout, pool_timeout, release_conn, chunked, body_pos, **response_kw)\u001b[0m\n\u001b[1;32m    785\u001b[0m     e \u001b[39m=\u001b[39m ProtocolError(\u001b[39m\"\u001b[39m\u001b[39mConnection aborted.\u001b[39m\u001b[39m\"\u001b[39m, e)\n\u001b[0;32m--> 787\u001b[0m retries \u001b[39m=\u001b[39m retries\u001b[39m.\u001b[39;49mincrement(\n\u001b[1;32m    788\u001b[0m     method, url, error\u001b[39m=\u001b[39;49me, _pool\u001b[39m=\u001b[39;49m\u001b[39mself\u001b[39;49m, _stacktrace\u001b[39m=\u001b[39;49msys\u001b[39m.\u001b[39;49mexc_info()[\u001b[39m2\u001b[39;49m]\n\u001b[1;32m    789\u001b[0m )\n\u001b[1;32m    790\u001b[0m retries\u001b[39m.\u001b[39msleep()\n",
      "File \u001b[0;32m~/projects/chekosdev-sandbox/.venv/lib/python3.10/site-packages/urllib3/util/retry.py:550\u001b[0m, in \u001b[0;36mRetry.increment\u001b[0;34m(self, method, url, response, error, _pool, _stacktrace)\u001b[0m\n\u001b[1;32m    549\u001b[0m \u001b[39mif\u001b[39;00m read \u001b[39mis\u001b[39;00m \u001b[39mFalse\u001b[39;00m \u001b[39mor\u001b[39;00m \u001b[39mnot\u001b[39;00m \u001b[39mself\u001b[39m\u001b[39m.\u001b[39m_is_method_retryable(method):\n\u001b[0;32m--> 550\u001b[0m     \u001b[39mraise\u001b[39;00m six\u001b[39m.\u001b[39;49mreraise(\u001b[39mtype\u001b[39;49m(error), error, _stacktrace)\n\u001b[1;32m    551\u001b[0m \u001b[39melif\u001b[39;00m read \u001b[39mis\u001b[39;00m \u001b[39mnot\u001b[39;00m \u001b[39mNone\u001b[39;00m:\n",
      "File \u001b[0;32m~/projects/chekosdev-sandbox/.venv/lib/python3.10/site-packages/urllib3/packages/six.py:769\u001b[0m, in \u001b[0;36mreraise\u001b[0;34m(tp, value, tb)\u001b[0m\n\u001b[1;32m    768\u001b[0m \u001b[39mif\u001b[39;00m value\u001b[39m.\u001b[39m__traceback__ \u001b[39mis\u001b[39;00m \u001b[39mnot\u001b[39;00m tb:\n\u001b[0;32m--> 769\u001b[0m     \u001b[39mraise\u001b[39;00m value\u001b[39m.\u001b[39mwith_traceback(tb)\n\u001b[1;32m    770\u001b[0m \u001b[39mraise\u001b[39;00m value\n",
      "File \u001b[0;32m~/projects/chekosdev-sandbox/.venv/lib/python3.10/site-packages/urllib3/connectionpool.py:703\u001b[0m, in \u001b[0;36mHTTPConnectionPool.urlopen\u001b[0;34m(self, method, url, body, headers, retries, redirect, assert_same_host, timeout, pool_timeout, release_conn, chunked, body_pos, **response_kw)\u001b[0m\n\u001b[1;32m    702\u001b[0m \u001b[39m# Make the request on the httplib connection object.\u001b[39;00m\n\u001b[0;32m--> 703\u001b[0m httplib_response \u001b[39m=\u001b[39m \u001b[39mself\u001b[39;49m\u001b[39m.\u001b[39;49m_make_request(\n\u001b[1;32m    704\u001b[0m     conn,\n\u001b[1;32m    705\u001b[0m     method,\n\u001b[1;32m    706\u001b[0m     url,\n\u001b[1;32m    707\u001b[0m     timeout\u001b[39m=\u001b[39;49mtimeout_obj,\n\u001b[1;32m    708\u001b[0m     body\u001b[39m=\u001b[39;49mbody,\n\u001b[1;32m    709\u001b[0m     headers\u001b[39m=\u001b[39;49mheaders,\n\u001b[1;32m    710\u001b[0m     chunked\u001b[39m=\u001b[39;49mchunked,\n\u001b[1;32m    711\u001b[0m )\n\u001b[1;32m    713\u001b[0m \u001b[39m# If we're going to release the connection in ``finally:``, then\u001b[39;00m\n\u001b[1;32m    714\u001b[0m \u001b[39m# the response doesn't need to know about the connection. Otherwise\u001b[39;00m\n\u001b[1;32m    715\u001b[0m \u001b[39m# it will also try to release it and we'll have a double-release\u001b[39;00m\n\u001b[1;32m    716\u001b[0m \u001b[39m# mess.\u001b[39;00m\n",
      "File \u001b[0;32m~/projects/chekosdev-sandbox/.venv/lib/python3.10/site-packages/urllib3/connectionpool.py:449\u001b[0m, in \u001b[0;36mHTTPConnectionPool._make_request\u001b[0;34m(self, conn, method, url, timeout, chunked, **httplib_request_kw)\u001b[0m\n\u001b[1;32m    445\u001b[0m         \u001b[39mexcept\u001b[39;00m \u001b[39mBaseException\u001b[39;00m \u001b[39mas\u001b[39;00m e:\n\u001b[1;32m    446\u001b[0m             \u001b[39m# Remove the TypeError from the exception chain in\u001b[39;00m\n\u001b[1;32m    447\u001b[0m             \u001b[39m# Python 3 (including for exceptions like SystemExit).\u001b[39;00m\n\u001b[1;32m    448\u001b[0m             \u001b[39m# Otherwise it looks like a bug in the code.\u001b[39;00m\n\u001b[0;32m--> 449\u001b[0m             six\u001b[39m.\u001b[39;49mraise_from(e, \u001b[39mNone\u001b[39;49;00m)\n\u001b[1;32m    450\u001b[0m \u001b[39mexcept\u001b[39;00m (SocketTimeout, BaseSSLError, SocketError) \u001b[39mas\u001b[39;00m e:\n",
      "File \u001b[0;32m<string>:3\u001b[0m, in \u001b[0;36mraise_from\u001b[0;34m(value, from_value)\u001b[0m\n",
      "File \u001b[0;32m~/projects/chekosdev-sandbox/.venv/lib/python3.10/site-packages/urllib3/connectionpool.py:444\u001b[0m, in \u001b[0;36mHTTPConnectionPool._make_request\u001b[0;34m(self, conn, method, url, timeout, chunked, **httplib_request_kw)\u001b[0m\n\u001b[1;32m    443\u001b[0m \u001b[39mtry\u001b[39;00m:\n\u001b[0;32m--> 444\u001b[0m     httplib_response \u001b[39m=\u001b[39m conn\u001b[39m.\u001b[39;49mgetresponse()\n\u001b[1;32m    445\u001b[0m \u001b[39mexcept\u001b[39;00m \u001b[39mBaseException\u001b[39;00m \u001b[39mas\u001b[39;00m e:\n\u001b[1;32m    446\u001b[0m     \u001b[39m# Remove the TypeError from the exception chain in\u001b[39;00m\n\u001b[1;32m    447\u001b[0m     \u001b[39m# Python 3 (including for exceptions like SystemExit).\u001b[39;00m\n\u001b[1;32m    448\u001b[0m     \u001b[39m# Otherwise it looks like a bug in the code.\u001b[39;00m\n",
      "File \u001b[0;32m/opt/homebrew/Cellar/python@3.10/3.10.6_2/Frameworks/Python.framework/Versions/3.10/lib/python3.10/http/client.py:1374\u001b[0m, in \u001b[0;36mHTTPConnection.getresponse\u001b[0;34m(self)\u001b[0m\n\u001b[1;32m   1373\u001b[0m \u001b[39mtry\u001b[39;00m:\n\u001b[0;32m-> 1374\u001b[0m     response\u001b[39m.\u001b[39;49mbegin()\n\u001b[1;32m   1375\u001b[0m \u001b[39mexcept\u001b[39;00m \u001b[39mConnectionError\u001b[39;00m:\n",
      "File \u001b[0;32m/opt/homebrew/Cellar/python@3.10/3.10.6_2/Frameworks/Python.framework/Versions/3.10/lib/python3.10/http/client.py:318\u001b[0m, in \u001b[0;36mHTTPResponse.begin\u001b[0;34m(self)\u001b[0m\n\u001b[1;32m    317\u001b[0m \u001b[39mwhile\u001b[39;00m \u001b[39mTrue\u001b[39;00m:\n\u001b[0;32m--> 318\u001b[0m     version, status, reason \u001b[39m=\u001b[39m \u001b[39mself\u001b[39;49m\u001b[39m.\u001b[39;49m_read_status()\n\u001b[1;32m    319\u001b[0m     \u001b[39mif\u001b[39;00m status \u001b[39m!=\u001b[39m CONTINUE:\n",
      "File \u001b[0;32m/opt/homebrew/Cellar/python@3.10/3.10.6_2/Frameworks/Python.framework/Versions/3.10/lib/python3.10/http/client.py:287\u001b[0m, in \u001b[0;36mHTTPResponse._read_status\u001b[0;34m(self)\u001b[0m\n\u001b[1;32m    284\u001b[0m \u001b[39mif\u001b[39;00m \u001b[39mnot\u001b[39;00m line:\n\u001b[1;32m    285\u001b[0m     \u001b[39m# Presumably, the server closed the connection before\u001b[39;00m\n\u001b[1;32m    286\u001b[0m     \u001b[39m# sending a valid response.\u001b[39;00m\n\u001b[0;32m--> 287\u001b[0m     \u001b[39mraise\u001b[39;00m RemoteDisconnected(\u001b[39m\"\u001b[39m\u001b[39mRemote end closed connection without\u001b[39m\u001b[39m\"\u001b[39m\n\u001b[1;32m    288\u001b[0m                              \u001b[39m\"\u001b[39m\u001b[39m response\u001b[39m\u001b[39m\"\u001b[39m)\n\u001b[1;32m    289\u001b[0m \u001b[39mtry\u001b[39;00m:\n",
      "\u001b[0;31mProtocolError\u001b[0m: ('Connection aborted.', RemoteDisconnected('Remote end closed connection without response'))",
      "\nDuring handling of the above exception, another exception occurred:\n",
      "\u001b[0;31mConnectionError\u001b[0m                           Traceback (most recent call last)",
      "Cell \u001b[0;32mIn[31], line 6\u001b[0m\n\u001b[1;32m      1\u001b[0m \u001b[39mfor\u001b[39;00m query \u001b[39min\u001b[39;00m track_progress(\n\u001b[1;32m      2\u001b[0m     [\u001b[39m\"\u001b[39m\u001b[39mArca Tiro\u001b[39m\u001b[39m\"\u001b[39m, \u001b[39m\"\u001b[39m\u001b[39mArca Prada\u001b[39m\u001b[39m\"\u001b[39m],\n\u001b[1;32m      3\u001b[0m     total\u001b[39m=\u001b[39m\u001b[39mlen\u001b[39m(search_queries),\n\u001b[1;32m      4\u001b[0m     description\u001b[39m=\u001b[39m\u001b[39m\"\u001b[39m\u001b[39mSearch queries: \u001b[39m\u001b[39m\"\u001b[39m,\n\u001b[1;32m      5\u001b[0m ):\n\u001b[0;32m----> 6\u001b[0m     track_info \u001b[39m=\u001b[39m get_track_info(query)\n\u001b[1;32m      7\u001b[0m     \u001b[39m# if track_info:\u001b[39;00m\n\u001b[1;32m      8\u001b[0m     \u001b[39m#     tracks_info.append(track_info)\u001b[39;00m\n\u001b[1;32m      9\u001b[0m     \u001b[39m#     track_audio_features = sp.audio_features(track_info[\"uri\"])[0]\u001b[39;00m\n\u001b[0;32m   (...)\u001b[0m\n\u001b[1;32m     12\u001b[0m     \u001b[39m# else:\u001b[39;00m\n\u001b[1;32m     13\u001b[0m     \u001b[39m#     skipped_queries.append(query)\u001b[39;00m\n",
      "Cell \u001b[0;32mIn[4], line 3\u001b[0m, in \u001b[0;36mget_track_info\u001b[0;34m(query, is_uri)\u001b[0m\n\u001b[1;32m      1\u001b[0m \u001b[39mdef\u001b[39;00m \u001b[39mget_track_info\u001b[39m(query: \u001b[39mstr\u001b[39m, is_uri: \u001b[39mbool\u001b[39m \u001b[39m=\u001b[39m \u001b[39mFalse\u001b[39;00m):\n\u001b[1;32m      2\u001b[0m     \u001b[39mif\u001b[39;00m \u001b[39mnot\u001b[39;00m is_uri:\n\u001b[0;32m----> 3\u001b[0m         search_result \u001b[39m=\u001b[39m sp\u001b[39m.\u001b[39;49msearch(query, limit\u001b[39m=\u001b[39;49m\u001b[39m1\u001b[39;49m, \u001b[39mtype\u001b[39;49m\u001b[39m=\u001b[39;49m\u001b[39m\"\u001b[39;49m\u001b[39mtrack\u001b[39;49m\u001b[39m\"\u001b[39;49m)\n\u001b[1;32m      4\u001b[0m         \u001b[39mif\u001b[39;00m search_result[\u001b[39m\"\u001b[39m\u001b[39mtracks\u001b[39m\u001b[39m\"\u001b[39m][\u001b[39m\"\u001b[39m\u001b[39mitems\u001b[39m\u001b[39m\"\u001b[39m]:\n\u001b[1;32m      5\u001b[0m             track_item \u001b[39m=\u001b[39m search_result[\u001b[39m\"\u001b[39m\u001b[39mtracks\u001b[39m\u001b[39m\"\u001b[39m][\u001b[39m\"\u001b[39m\u001b[39mitems\u001b[39m\u001b[39m\"\u001b[39m][\u001b[39m0\u001b[39m]\n",
      "File \u001b[0;32m~/projects/chekosdev-sandbox/.venv/lib/python3.10/site-packages/spotipy/client.py:561\u001b[0m, in \u001b[0;36mSpotify.search\u001b[0;34m(self, q, limit, offset, type, market)\u001b[0m\n\u001b[1;32m    546\u001b[0m \u001b[39mdef\u001b[39;00m \u001b[39msearch\u001b[39m(\u001b[39mself\u001b[39m, q, limit\u001b[39m=\u001b[39m\u001b[39m10\u001b[39m, offset\u001b[39m=\u001b[39m\u001b[39m0\u001b[39m, \u001b[39mtype\u001b[39m\u001b[39m=\u001b[39m\u001b[39m\"\u001b[39m\u001b[39mtrack\u001b[39m\u001b[39m\"\u001b[39m, market\u001b[39m=\u001b[39m\u001b[39mNone\u001b[39;00m):\n\u001b[1;32m    547\u001b[0m     \u001b[39m\"\"\" searches for an item\u001b[39;00m\n\u001b[1;32m    548\u001b[0m \n\u001b[1;32m    549\u001b[0m \u001b[39m        Parameters:\u001b[39;00m\n\u001b[0;32m   (...)\u001b[0m\n\u001b[1;32m    559\u001b[0m \u001b[39m                       from_token.\u001b[39;00m\n\u001b[1;32m    560\u001b[0m \u001b[39m    \"\"\"\u001b[39;00m\n\u001b[0;32m--> 561\u001b[0m     \u001b[39mreturn\u001b[39;00m \u001b[39mself\u001b[39;49m\u001b[39m.\u001b[39;49m_get(\n\u001b[1;32m    562\u001b[0m         \u001b[39m\"\u001b[39;49m\u001b[39msearch\u001b[39;49m\u001b[39m\"\u001b[39;49m, q\u001b[39m=\u001b[39;49mq, limit\u001b[39m=\u001b[39;49mlimit, offset\u001b[39m=\u001b[39;49moffset, \u001b[39mtype\u001b[39;49m\u001b[39m=\u001b[39;49m\u001b[39mtype\u001b[39;49m, market\u001b[39m=\u001b[39;49mmarket\n\u001b[1;32m    563\u001b[0m     )\n",
      "File \u001b[0;32m~/projects/chekosdev-sandbox/.venv/lib/python3.10/site-packages/spotipy/client.py:297\u001b[0m, in \u001b[0;36mSpotify._get\u001b[0;34m(self, url, args, payload, **kwargs)\u001b[0m\n\u001b[1;32m    294\u001b[0m \u001b[39mif\u001b[39;00m args:\n\u001b[1;32m    295\u001b[0m     kwargs\u001b[39m.\u001b[39mupdate(args)\n\u001b[0;32m--> 297\u001b[0m \u001b[39mreturn\u001b[39;00m \u001b[39mself\u001b[39;49m\u001b[39m.\u001b[39;49m_internal_call(\u001b[39m\"\u001b[39;49m\u001b[39mGET\u001b[39;49m\u001b[39m\"\u001b[39;49m, url, payload, kwargs)\n",
      "File \u001b[0;32m~/projects/chekosdev-sandbox/.venv/lib/python3.10/site-packages/spotipy/client.py:240\u001b[0m, in \u001b[0;36mSpotify._internal_call\u001b[0;34m(self, method, url, payload, params)\u001b[0m\n\u001b[1;32m    236\u001b[0m logger\u001b[39m.\u001b[39mdebug(\u001b[39m'\u001b[39m\u001b[39mSending \u001b[39m\u001b[39m%s\u001b[39;00m\u001b[39m to \u001b[39m\u001b[39m%s\u001b[39;00m\u001b[39m with Params: \u001b[39m\u001b[39m%s\u001b[39;00m\u001b[39m Headers: \u001b[39m\u001b[39m%s\u001b[39;00m\u001b[39m and Body: \u001b[39m\u001b[39m%r\u001b[39;00m\u001b[39m \u001b[39m\u001b[39m'\u001b[39m,\n\u001b[1;32m    237\u001b[0m              method, url, args\u001b[39m.\u001b[39mget(\u001b[39m\"\u001b[39m\u001b[39mparams\u001b[39m\u001b[39m\"\u001b[39m), headers, args\u001b[39m.\u001b[39mget(\u001b[39m'\u001b[39m\u001b[39mdata\u001b[39m\u001b[39m'\u001b[39m))\n\u001b[1;32m    239\u001b[0m \u001b[39mtry\u001b[39;00m:\n\u001b[0;32m--> 240\u001b[0m     response \u001b[39m=\u001b[39m \u001b[39mself\u001b[39;49m\u001b[39m.\u001b[39;49m_session\u001b[39m.\u001b[39;49mrequest(\n\u001b[1;32m    241\u001b[0m         method, url, headers\u001b[39m=\u001b[39;49mheaders, proxies\u001b[39m=\u001b[39;49m\u001b[39mself\u001b[39;49m\u001b[39m.\u001b[39;49mproxies,\n\u001b[1;32m    242\u001b[0m         timeout\u001b[39m=\u001b[39;49m\u001b[39mself\u001b[39;49m\u001b[39m.\u001b[39;49mrequests_timeout, \u001b[39m*\u001b[39;49m\u001b[39m*\u001b[39;49margs\n\u001b[1;32m    243\u001b[0m     )\n\u001b[1;32m    245\u001b[0m     response\u001b[39m.\u001b[39mraise_for_status()\n\u001b[1;32m    246\u001b[0m     results \u001b[39m=\u001b[39m response\u001b[39m.\u001b[39mjson()\n",
      "File \u001b[0;32m~/projects/chekosdev-sandbox/.venv/lib/python3.10/site-packages/requests/sessions.py:587\u001b[0m, in \u001b[0;36mSession.request\u001b[0;34m(self, method, url, params, data, headers, cookies, files, auth, timeout, allow_redirects, proxies, hooks, stream, verify, cert, json)\u001b[0m\n\u001b[1;32m    582\u001b[0m send_kwargs \u001b[39m=\u001b[39m {\n\u001b[1;32m    583\u001b[0m     \u001b[39m\"\u001b[39m\u001b[39mtimeout\u001b[39m\u001b[39m\"\u001b[39m: timeout,\n\u001b[1;32m    584\u001b[0m     \u001b[39m\"\u001b[39m\u001b[39mallow_redirects\u001b[39m\u001b[39m\"\u001b[39m: allow_redirects,\n\u001b[1;32m    585\u001b[0m }\n\u001b[1;32m    586\u001b[0m send_kwargs\u001b[39m.\u001b[39mupdate(settings)\n\u001b[0;32m--> 587\u001b[0m resp \u001b[39m=\u001b[39m \u001b[39mself\u001b[39;49m\u001b[39m.\u001b[39;49msend(prep, \u001b[39m*\u001b[39;49m\u001b[39m*\u001b[39;49msend_kwargs)\n\u001b[1;32m    589\u001b[0m \u001b[39mreturn\u001b[39;00m resp\n",
      "File \u001b[0;32m~/projects/chekosdev-sandbox/.venv/lib/python3.10/site-packages/requests/sessions.py:701\u001b[0m, in \u001b[0;36mSession.send\u001b[0;34m(self, request, **kwargs)\u001b[0m\n\u001b[1;32m    698\u001b[0m start \u001b[39m=\u001b[39m preferred_clock()\n\u001b[1;32m    700\u001b[0m \u001b[39m# Send the request\u001b[39;00m\n\u001b[0;32m--> 701\u001b[0m r \u001b[39m=\u001b[39m adapter\u001b[39m.\u001b[39;49msend(request, \u001b[39m*\u001b[39;49m\u001b[39m*\u001b[39;49mkwargs)\n\u001b[1;32m    703\u001b[0m \u001b[39m# Total elapsed time of the request (approximately)\u001b[39;00m\n\u001b[1;32m    704\u001b[0m elapsed \u001b[39m=\u001b[39m preferred_clock() \u001b[39m-\u001b[39m start\n",
      "File \u001b[0;32m~/projects/chekosdev-sandbox/.venv/lib/python3.10/site-packages/requests/adapters.py:547\u001b[0m, in \u001b[0;36mHTTPAdapter.send\u001b[0;34m(self, request, stream, timeout, verify, cert, proxies)\u001b[0m\n\u001b[1;32m    544\u001b[0m             \u001b[39mraise\u001b[39;00m\n\u001b[1;32m    546\u001b[0m \u001b[39mexcept\u001b[39;00m (ProtocolError, \u001b[39mOSError\u001b[39;00m) \u001b[39mas\u001b[39;00m err:\n\u001b[0;32m--> 547\u001b[0m     \u001b[39mraise\u001b[39;00m \u001b[39mConnectionError\u001b[39;00m(err, request\u001b[39m=\u001b[39mrequest)\n\u001b[1;32m    549\u001b[0m \u001b[39mexcept\u001b[39;00m MaxRetryError \u001b[39mas\u001b[39;00m e:\n\u001b[1;32m    550\u001b[0m     \u001b[39mif\u001b[39;00m \u001b[39misinstance\u001b[39m(e\u001b[39m.\u001b[39mreason, ConnectTimeoutError):\n\u001b[1;32m    551\u001b[0m         \u001b[39m# TODO: Remove this in 3.0.0: see #2811\u001b[39;00m\n",
      "\u001b[0;31mConnectionError\u001b[0m: ('Connection aborted.', RemoteDisconnected('Remote end closed connection without response'))"
     ]
    }
   ],
   "source": [
    "for query in track_progress(\n",
    "    [\"Arca Tiro\", \"Arca Prada\"],\n",
    "    total=len(search_queries),\n",
    "    description=\"Search queries: \",\n",
    "):\n",
    "    track_info = get_track_info(query)\n",
    "    # if track_info:\n",
    "    #     tracks_info.append(track_info)\n",
    "    #     track_audio_features = sp.audio_features(track_info[\"uri\"])[0]\n",
    "    #     if track_audio_features:\n",
    "    #         tracks_audio_features.append(track_audio_features)\n",
    "    # else:\n",
    "    #     skipped_queries.append(query)"
   ]
  },
  {
   "cell_type": "code",
   "execution_count": 17,
   "metadata": {},
   "outputs": [],
   "source": [
    "with open(\"interim/tracks_info.json\", \"w\") as file:\n",
    "    json.dump(tracks_info, file, default=str)\n",
    "with open(\"interim/tracks_audio_features.json\", \"w\") as file:\n",
    "    json.dump(tracks_audio_features, file, default=str)"
   ]
  }
 ],
 "metadata": {
  "kernelspec": {
   "display_name": ".venv",
   "language": "python",
   "name": "python3"
  },
  "language_info": {
   "codemirror_mode": {
    "name": "ipython",
    "version": 3
   },
   "file_extension": ".py",
   "mimetype": "text/x-python",
   "name": "python",
   "nbconvert_exporter": "python",
   "pygments_lexer": "ipython3",
   "version": "3.10.6"
  },
  "orig_nbformat": 4,
  "vscode": {
   "interpreter": {
    "hash": "a239d03b2df57c6cc186a6c6180006d190586b8323edcac52e69de623776c524"
   }
  }
 },
 "nbformat": 4,
 "nbformat_minor": 2
}
