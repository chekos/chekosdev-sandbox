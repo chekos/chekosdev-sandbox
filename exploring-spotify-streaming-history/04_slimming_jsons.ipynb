{
 "cells": [
  {
   "cell_type": "code",
   "execution_count": 19,
   "metadata": {},
   "outputs": [],
   "source": [
    "import json \n",
    "from rich import print \n",
    "\n",
    "import pandas as pd"
   ]
  },
  {
   "cell_type": "code",
   "execution_count": 2,
   "metadata": {},
   "outputs": [],
   "source": [
    "with open(\"interim/streaming_history.json\", \"r\") as file:\n",
    "    data = json.load(file)"
   ]
  },
  {
   "cell_type": "code",
   "execution_count": 16,
   "metadata": {},
   "outputs": [],
   "source": [
    "song = data[420]['track']['track_info']"
   ]
  },
  {
   "cell_type": "code",
   "execution_count": 17,
   "metadata": {},
   "outputs": [
    {
     "data": {
      "text/html": [
       "<pre style=\"white-space:pre;overflow-x:auto;line-height:normal;font-family:Menlo,'DejaVu Sans Mono',consolas,'Courier New',monospace\"><span style=\"color: #800080; text-decoration-color: #800080; font-weight: bold\">dict_keys</span><span style=\"font-weight: bold\">([</span><span style=\"color: #008000; text-decoration-color: #008000\">'album'</span>, <span style=\"color: #008000; text-decoration-color: #008000\">'artists'</span>, <span style=\"color: #008000; text-decoration-color: #008000\">'disc_number'</span>, <span style=\"color: #008000; text-decoration-color: #008000\">'duration_ms'</span>, <span style=\"color: #008000; text-decoration-color: #008000\">'explicit'</span>, <span style=\"color: #008000; text-decoration-color: #008000\">'external_ids'</span>, <span style=\"color: #008000; text-decoration-color: #008000\">'external_urls'</span>, <span style=\"color: #008000; text-decoration-color: #008000\">'href'</span>, \n",
       "<span style=\"color: #008000; text-decoration-color: #008000\">'id'</span>, <span style=\"color: #008000; text-decoration-color: #008000\">'is_local'</span>, <span style=\"color: #008000; text-decoration-color: #008000\">'name'</span>, <span style=\"color: #008000; text-decoration-color: #008000\">'popularity'</span>, <span style=\"color: #008000; text-decoration-color: #008000\">'preview_url'</span>, <span style=\"color: #008000; text-decoration-color: #008000\">'track_number'</span>, <span style=\"color: #008000; text-decoration-color: #008000\">'type'</span>, <span style=\"color: #008000; text-decoration-color: #008000\">'uri'</span><span style=\"font-weight: bold\">])</span>\n",
       "</pre>\n"
      ],
      "text/plain": [
       "\u001b[1;35mdict_keys\u001b[0m\u001b[1m(\u001b[0m\u001b[1m[\u001b[0m\u001b[32m'album'\u001b[0m, \u001b[32m'artists'\u001b[0m, \u001b[32m'disc_number'\u001b[0m, \u001b[32m'duration_ms'\u001b[0m, \u001b[32m'explicit'\u001b[0m, \u001b[32m'external_ids'\u001b[0m, \u001b[32m'external_urls'\u001b[0m, \u001b[32m'href'\u001b[0m, \n",
       "\u001b[32m'id'\u001b[0m, \u001b[32m'is_local'\u001b[0m, \u001b[32m'name'\u001b[0m, \u001b[32m'popularity'\u001b[0m, \u001b[32m'preview_url'\u001b[0m, \u001b[32m'track_number'\u001b[0m, \u001b[32m'type'\u001b[0m, \u001b[32m'uri'\u001b[0m\u001b[1m]\u001b[0m\u001b[1m)\u001b[0m\n"
      ]
     },
     "metadata": {},
     "output_type": "display_data"
    }
   ],
   "source": [
    "print(song.keys())"
   ]
  },
  {
   "cell_type": "code",
   "execution_count": 18,
   "metadata": {},
   "outputs": [
    {
     "data": {
      "text/html": [
       "<pre style=\"white-space:pre;overflow-x:auto;line-height:normal;font-family:Menlo,'DejaVu Sans Mono',consolas,'Courier New',monospace\"><span style=\"font-weight: bold\">{</span>\n",
       "    <span style=\"color: #008000; text-decoration-color: #008000\">'album'</span>: <span style=\"font-weight: bold\">{</span>\n",
       "        <span style=\"color: #008000; text-decoration-color: #008000\">'album_type'</span>: <span style=\"color: #008000; text-decoration-color: #008000\">'album'</span>,\n",
       "        <span style=\"color: #008000; text-decoration-color: #008000\">'artists'</span>: <span style=\"font-weight: bold\">[</span>\n",
       "            <span style=\"font-weight: bold\">{</span>\n",
       "                <span style=\"color: #008000; text-decoration-color: #008000\">'external_urls'</span>: <span style=\"font-weight: bold\">{</span><span style=\"color: #008000; text-decoration-color: #008000\">'spotify'</span>: <span style=\"color: #008000; text-decoration-color: #008000\">'https://open.spotify.com/artist/4QFG9KrGWEbr6hNA58CAqE'</span><span style=\"font-weight: bold\">}</span>,\n",
       "                <span style=\"color: #008000; text-decoration-color: #008000\">'href'</span>: <span style=\"color: #008000; text-decoration-color: #008000\">'https://api.spotify.com/v1/artists/4QFG9KrGWEbr6hNA58CAqE'</span>,\n",
       "                <span style=\"color: #008000; text-decoration-color: #008000\">'id'</span>: <span style=\"color: #008000; text-decoration-color: #008000\">'4QFG9KrGWEbr6hNA58CAqE'</span>,\n",
       "                <span style=\"color: #008000; text-decoration-color: #008000\">'name'</span>: <span style=\"color: #008000; text-decoration-color: #008000\">'Aleman'</span>,\n",
       "                <span style=\"color: #008000; text-decoration-color: #008000\">'type'</span>: <span style=\"color: #008000; text-decoration-color: #008000\">'artist'</span>,\n",
       "                <span style=\"color: #008000; text-decoration-color: #008000\">'uri'</span>: <span style=\"color: #008000; text-decoration-color: #008000\">'spotify:artist:4QFG9KrGWEbr6hNA58CAqE'</span>\n",
       "            <span style=\"font-weight: bold\">}</span>\n",
       "        <span style=\"font-weight: bold\">]</span>,\n",
       "        <span style=\"color: #008000; text-decoration-color: #008000\">'external_urls'</span>: <span style=\"font-weight: bold\">{</span><span style=\"color: #008000; text-decoration-color: #008000\">'spotify'</span>: <span style=\"color: #008000; text-decoration-color: #008000\">'https://open.spotify.com/album/1yM29w2suYVpMursUbXQMi'</span><span style=\"font-weight: bold\">}</span>,\n",
       "        <span style=\"color: #008000; text-decoration-color: #008000\">'href'</span>: <span style=\"color: #008000; text-decoration-color: #008000\">'https://api.spotify.com/v1/albums/1yM29w2suYVpMursUbXQMi'</span>,\n",
       "        <span style=\"color: #008000; text-decoration-color: #008000\">'id'</span>: <span style=\"color: #008000; text-decoration-color: #008000\">'1yM29w2suYVpMursUbXQMi'</span>,\n",
       "        <span style=\"color: #008000; text-decoration-color: #008000\">'images'</span>: <span style=\"font-weight: bold\">[</span>\n",
       "            <span style=\"font-weight: bold\">{</span>\n",
       "                <span style=\"color: #008000; text-decoration-color: #008000\">'height'</span>: <span style=\"color: #008080; text-decoration-color: #008080; font-weight: bold\">640</span>,\n",
       "                <span style=\"color: #008000; text-decoration-color: #008000\">'url'</span>: <span style=\"color: #008000; text-decoration-color: #008000\">'https://i.scdn.co/image/ab67616d0000b273aeac9dcdb0463767e245740b'</span>,\n",
       "                <span style=\"color: #008000; text-decoration-color: #008000\">'width'</span>: <span style=\"color: #008080; text-decoration-color: #008080; font-weight: bold\">640</span>\n",
       "            <span style=\"font-weight: bold\">}</span>,\n",
       "            <span style=\"font-weight: bold\">{</span>\n",
       "                <span style=\"color: #008000; text-decoration-color: #008000\">'height'</span>: <span style=\"color: #008080; text-decoration-color: #008080; font-weight: bold\">300</span>,\n",
       "                <span style=\"color: #008000; text-decoration-color: #008000\">'url'</span>: <span style=\"color: #008000; text-decoration-color: #008000\">'https://i.scdn.co/image/ab67616d00001e02aeac9dcdb0463767e245740b'</span>,\n",
       "                <span style=\"color: #008000; text-decoration-color: #008000\">'width'</span>: <span style=\"color: #008080; text-decoration-color: #008080; font-weight: bold\">300</span>\n",
       "            <span style=\"font-weight: bold\">}</span>,\n",
       "            <span style=\"font-weight: bold\">{</span>\n",
       "                <span style=\"color: #008000; text-decoration-color: #008000\">'height'</span>: <span style=\"color: #008080; text-decoration-color: #008080; font-weight: bold\">64</span>,\n",
       "                <span style=\"color: #008000; text-decoration-color: #008000\">'url'</span>: <span style=\"color: #008000; text-decoration-color: #008000\">'https://i.scdn.co/image/ab67616d00004851aeac9dcdb0463767e245740b'</span>,\n",
       "                <span style=\"color: #008000; text-decoration-color: #008000\">'width'</span>: <span style=\"color: #008080; text-decoration-color: #008080; font-weight: bold\">64</span>\n",
       "            <span style=\"font-weight: bold\">}</span>\n",
       "        <span style=\"font-weight: bold\">]</span>,\n",
       "        <span style=\"color: #008000; text-decoration-color: #008000\">'name'</span>: <span style=\"color: #008000; text-decoration-color: #008000\">'Huracán'</span>,\n",
       "        <span style=\"color: #008000; text-decoration-color: #008000\">'release_date'</span>: <span style=\"color: #008000; text-decoration-color: #008000\">'2021-11-18'</span>,\n",
       "        <span style=\"color: #008000; text-decoration-color: #008000\">'release_date_precision'</span>: <span style=\"color: #008000; text-decoration-color: #008000\">'day'</span>,\n",
       "        <span style=\"color: #008000; text-decoration-color: #008000\">'total_tracks'</span>: <span style=\"color: #008080; text-decoration-color: #008080; font-weight: bold\">21</span>,\n",
       "        <span style=\"color: #008000; text-decoration-color: #008000\">'type'</span>: <span style=\"color: #008000; text-decoration-color: #008000\">'album'</span>,\n",
       "        <span style=\"color: #008000; text-decoration-color: #008000\">'uri'</span>: <span style=\"color: #008000; text-decoration-color: #008000\">'spotify:album:1yM29w2suYVpMursUbXQMi'</span>\n",
       "    <span style=\"font-weight: bold\">}</span>,\n",
       "    <span style=\"color: #008000; text-decoration-color: #008000\">'artists'</span>: <span style=\"font-weight: bold\">[</span>\n",
       "        <span style=\"font-weight: bold\">{</span>\n",
       "            <span style=\"color: #008000; text-decoration-color: #008000\">'external_urls'</span>: <span style=\"font-weight: bold\">{</span><span style=\"color: #008000; text-decoration-color: #008000\">'spotify'</span>: <span style=\"color: #008000; text-decoration-color: #008000\">'https://open.spotify.com/artist/4QFG9KrGWEbr6hNA58CAqE'</span><span style=\"font-weight: bold\">}</span>,\n",
       "            <span style=\"color: #008000; text-decoration-color: #008000\">'href'</span>: <span style=\"color: #008000; text-decoration-color: #008000\">'https://api.spotify.com/v1/artists/4QFG9KrGWEbr6hNA58CAqE'</span>,\n",
       "            <span style=\"color: #008000; text-decoration-color: #008000\">'id'</span>: <span style=\"color: #008000; text-decoration-color: #008000\">'4QFG9KrGWEbr6hNA58CAqE'</span>,\n",
       "            <span style=\"color: #008000; text-decoration-color: #008000\">'name'</span>: <span style=\"color: #008000; text-decoration-color: #008000\">'Aleman'</span>,\n",
       "            <span style=\"color: #008000; text-decoration-color: #008000\">'type'</span>: <span style=\"color: #008000; text-decoration-color: #008000\">'artist'</span>,\n",
       "            <span style=\"color: #008000; text-decoration-color: #008000\">'uri'</span>: <span style=\"color: #008000; text-decoration-color: #008000\">'spotify:artist:4QFG9KrGWEbr6hNA58CAqE'</span>\n",
       "        <span style=\"font-weight: bold\">}</span>,\n",
       "        <span style=\"font-weight: bold\">{</span>\n",
       "            <span style=\"color: #008000; text-decoration-color: #008000\">'external_urls'</span>: <span style=\"font-weight: bold\">{</span><span style=\"color: #008000; text-decoration-color: #008000\">'spotify'</span>: <span style=\"color: #008000; text-decoration-color: #008000\">'https://open.spotify.com/artist/5ET6v0l25osw5BzztPsMvD'</span><span style=\"font-weight: bold\">}</span>,\n",
       "            <span style=\"color: #008000; text-decoration-color: #008000\">'href'</span>: <span style=\"color: #008000; text-decoration-color: #008000\">'https://api.spotify.com/v1/artists/5ET6v0l25osw5BzztPsMvD'</span>,\n",
       "            <span style=\"color: #008000; text-decoration-color: #008000\">'id'</span>: <span style=\"color: #008000; text-decoration-color: #008000\">'5ET6v0l25osw5BzztPsMvD'</span>,\n",
       "            <span style=\"color: #008000; text-decoration-color: #008000\">'name'</span>: <span style=\"color: #008000; text-decoration-color: #008000\">'Muelas De Gallo'</span>,\n",
       "            <span style=\"color: #008000; text-decoration-color: #008000\">'type'</span>: <span style=\"color: #008000; text-decoration-color: #008000\">'artist'</span>,\n",
       "            <span style=\"color: #008000; text-decoration-color: #008000\">'uri'</span>: <span style=\"color: #008000; text-decoration-color: #008000\">'spotify:artist:5ET6v0l25osw5BzztPsMvD'</span>\n",
       "        <span style=\"font-weight: bold\">}</span>,\n",
       "        <span style=\"font-weight: bold\">{</span>\n",
       "            <span style=\"color: #008000; text-decoration-color: #008000\">'external_urls'</span>: <span style=\"font-weight: bold\">{</span><span style=\"color: #008000; text-decoration-color: #008000\">'spotify'</span>: <span style=\"color: #008000; text-decoration-color: #008000\">'https://open.spotify.com/artist/7I85Ma5xjAo6nlvqOCIiWx'</span><span style=\"font-weight: bold\">}</span>,\n",
       "            <span style=\"color: #008000; text-decoration-color: #008000\">'href'</span>: <span style=\"color: #008000; text-decoration-color: #008000\">'https://api.spotify.com/v1/artists/7I85Ma5xjAo6nlvqOCIiWx'</span>,\n",
       "            <span style=\"color: #008000; text-decoration-color: #008000\">'id'</span>: <span style=\"color: #008000; text-decoration-color: #008000\">'7I85Ma5xjAo6nlvqOCIiWx'</span>,\n",
       "            <span style=\"color: #008000; text-decoration-color: #008000\">'name'</span>: <span style=\"color: #008000; text-decoration-color: #008000\">'Fntxy'</span>,\n",
       "            <span style=\"color: #008000; text-decoration-color: #008000\">'type'</span>: <span style=\"color: #008000; text-decoration-color: #008000\">'artist'</span>,\n",
       "            <span style=\"color: #008000; text-decoration-color: #008000\">'uri'</span>: <span style=\"color: #008000; text-decoration-color: #008000\">'spotify:artist:7I85Ma5xjAo6nlvqOCIiWx'</span>\n",
       "        <span style=\"font-weight: bold\">}</span>,\n",
       "        <span style=\"font-weight: bold\">{</span>\n",
       "            <span style=\"color: #008000; text-decoration-color: #008000\">'external_urls'</span>: <span style=\"font-weight: bold\">{</span><span style=\"color: #008000; text-decoration-color: #008000\">'spotify'</span>: <span style=\"color: #008000; text-decoration-color: #008000\">'https://open.spotify.com/artist/4u1dsEB1FKbGcdG0EAvxP8'</span><span style=\"font-weight: bold\">}</span>,\n",
       "            <span style=\"color: #008000; text-decoration-color: #008000\">'href'</span>: <span style=\"color: #008000; text-decoration-color: #008000\">'https://api.spotify.com/v1/artists/4u1dsEB1FKbGcdG0EAvxP8'</span>,\n",
       "            <span style=\"color: #008000; text-decoration-color: #008000\">'id'</span>: <span style=\"color: #008000; text-decoration-color: #008000\">'4u1dsEB1FKbGcdG0EAvxP8'</span>,\n",
       "            <span style=\"color: #008000; text-decoration-color: #008000\">'name'</span>: <span style=\"color: #008000; text-decoration-color: #008000\">'Jambene'</span>,\n",
       "            <span style=\"color: #008000; text-decoration-color: #008000\">'type'</span>: <span style=\"color: #008000; text-decoration-color: #008000\">'artist'</span>,\n",
       "            <span style=\"color: #008000; text-decoration-color: #008000\">'uri'</span>: <span style=\"color: #008000; text-decoration-color: #008000\">'spotify:artist:4u1dsEB1FKbGcdG0EAvxP8'</span>\n",
       "        <span style=\"font-weight: bold\">}</span>\n",
       "    <span style=\"font-weight: bold\">]</span>,\n",
       "    <span style=\"color: #008000; text-decoration-color: #008000\">'disc_number'</span>: <span style=\"color: #008080; text-decoration-color: #008080; font-weight: bold\">1</span>,\n",
       "    <span style=\"color: #008000; text-decoration-color: #008000\">'duration_ms'</span>: <span style=\"color: #008080; text-decoration-color: #008080; font-weight: bold\">289913</span>,\n",
       "    <span style=\"color: #008000; text-decoration-color: #008000\">'explicit'</span>: <span style=\"color: #00ff00; text-decoration-color: #00ff00; font-style: italic\">True</span>,\n",
       "    <span style=\"color: #008000; text-decoration-color: #008000\">'external_ids'</span>: <span style=\"font-weight: bold\">{</span><span style=\"color: #008000; text-decoration-color: #008000\">'isrc'</span>: <span style=\"color: #008000; text-decoration-color: #008000\">'QMDA72154014'</span><span style=\"font-weight: bold\">}</span>,\n",
       "    <span style=\"color: #008000; text-decoration-color: #008000\">'external_urls'</span>: <span style=\"font-weight: bold\">{</span><span style=\"color: #008000; text-decoration-color: #008000\">'spotify'</span>: <span style=\"color: #008000; text-decoration-color: #008000\">'https://open.spotify.com/track/07V6yFnZ8a6N35IzuIsUGl'</span><span style=\"font-weight: bold\">}</span>,\n",
       "    <span style=\"color: #008000; text-decoration-color: #008000\">'href'</span>: <span style=\"color: #008000; text-decoration-color: #008000\">'https://api.spotify.com/v1/tracks/07V6yFnZ8a6N35IzuIsUGl'</span>,\n",
       "    <span style=\"color: #008000; text-decoration-color: #008000\">'id'</span>: <span style=\"color: #008000; text-decoration-color: #008000\">'07V6yFnZ8a6N35IzuIsUGl'</span>,\n",
       "    <span style=\"color: #008000; text-decoration-color: #008000\">'is_local'</span>: <span style=\"color: #ff0000; text-decoration-color: #ff0000; font-style: italic\">False</span>,\n",
       "    <span style=\"color: #008000; text-decoration-color: #008000\">'name'</span>: <span style=\"color: #008000; text-decoration-color: #008000\">'So High'</span>,\n",
       "    <span style=\"color: #008000; text-decoration-color: #008000\">'popularity'</span>: <span style=\"color: #008080; text-decoration-color: #008080; font-weight: bold\">55</span>,\n",
       "    <span style=\"color: #008000; text-decoration-color: #008000\">'preview_url'</span>: \n",
       "<span style=\"color: #008000; text-decoration-color: #008000\">'https://p.scdn.co/mp3-preview/ec16ee0203d54a8c26765ee8c34d194103e44add?cid=5a0ffed4bc0642d794ffd4ab473c1b8f'</span>,\n",
       "    <span style=\"color: #008000; text-decoration-color: #008000\">'track_number'</span>: <span style=\"color: #008080; text-decoration-color: #008080; font-weight: bold\">18</span>,\n",
       "    <span style=\"color: #008000; text-decoration-color: #008000\">'type'</span>: <span style=\"color: #008000; text-decoration-color: #008000\">'track'</span>,\n",
       "    <span style=\"color: #008000; text-decoration-color: #008000\">'uri'</span>: <span style=\"color: #008000; text-decoration-color: #008000\">'spotify:track:07V6yFnZ8a6N35IzuIsUGl'</span>\n",
       "<span style=\"font-weight: bold\">}</span>\n",
       "</pre>\n"
      ],
      "text/plain": [
       "\u001b[1m{\u001b[0m\n",
       "    \u001b[32m'album'\u001b[0m: \u001b[1m{\u001b[0m\n",
       "        \u001b[32m'album_type'\u001b[0m: \u001b[32m'album'\u001b[0m,\n",
       "        \u001b[32m'artists'\u001b[0m: \u001b[1m[\u001b[0m\n",
       "            \u001b[1m{\u001b[0m\n",
       "                \u001b[32m'external_urls'\u001b[0m: \u001b[1m{\u001b[0m\u001b[32m'spotify'\u001b[0m: \u001b[32m'https://open.spotify.com/artist/4QFG9KrGWEbr6hNA58CAqE'\u001b[0m\u001b[1m}\u001b[0m,\n",
       "                \u001b[32m'href'\u001b[0m: \u001b[32m'https://api.spotify.com/v1/artists/4QFG9KrGWEbr6hNA58CAqE'\u001b[0m,\n",
       "                \u001b[32m'id'\u001b[0m: \u001b[32m'4QFG9KrGWEbr6hNA58CAqE'\u001b[0m,\n",
       "                \u001b[32m'name'\u001b[0m: \u001b[32m'Aleman'\u001b[0m,\n",
       "                \u001b[32m'type'\u001b[0m: \u001b[32m'artist'\u001b[0m,\n",
       "                \u001b[32m'uri'\u001b[0m: \u001b[32m'spotify:artist:4QFG9KrGWEbr6hNA58CAqE'\u001b[0m\n",
       "            \u001b[1m}\u001b[0m\n",
       "        \u001b[1m]\u001b[0m,\n",
       "        \u001b[32m'external_urls'\u001b[0m: \u001b[1m{\u001b[0m\u001b[32m'spotify'\u001b[0m: \u001b[32m'https://open.spotify.com/album/1yM29w2suYVpMursUbXQMi'\u001b[0m\u001b[1m}\u001b[0m,\n",
       "        \u001b[32m'href'\u001b[0m: \u001b[32m'https://api.spotify.com/v1/albums/1yM29w2suYVpMursUbXQMi'\u001b[0m,\n",
       "        \u001b[32m'id'\u001b[0m: \u001b[32m'1yM29w2suYVpMursUbXQMi'\u001b[0m,\n",
       "        \u001b[32m'images'\u001b[0m: \u001b[1m[\u001b[0m\n",
       "            \u001b[1m{\u001b[0m\n",
       "                \u001b[32m'height'\u001b[0m: \u001b[1;36m640\u001b[0m,\n",
       "                \u001b[32m'url'\u001b[0m: \u001b[32m'https://i.scdn.co/image/ab67616d0000b273aeac9dcdb0463767e245740b'\u001b[0m,\n",
       "                \u001b[32m'width'\u001b[0m: \u001b[1;36m640\u001b[0m\n",
       "            \u001b[1m}\u001b[0m,\n",
       "            \u001b[1m{\u001b[0m\n",
       "                \u001b[32m'height'\u001b[0m: \u001b[1;36m300\u001b[0m,\n",
       "                \u001b[32m'url'\u001b[0m: \u001b[32m'https://i.scdn.co/image/ab67616d00001e02aeac9dcdb0463767e245740b'\u001b[0m,\n",
       "                \u001b[32m'width'\u001b[0m: \u001b[1;36m300\u001b[0m\n",
       "            \u001b[1m}\u001b[0m,\n",
       "            \u001b[1m{\u001b[0m\n",
       "                \u001b[32m'height'\u001b[0m: \u001b[1;36m64\u001b[0m,\n",
       "                \u001b[32m'url'\u001b[0m: \u001b[32m'https://i.scdn.co/image/ab67616d00004851aeac9dcdb0463767e245740b'\u001b[0m,\n",
       "                \u001b[32m'width'\u001b[0m: \u001b[1;36m64\u001b[0m\n",
       "            \u001b[1m}\u001b[0m\n",
       "        \u001b[1m]\u001b[0m,\n",
       "        \u001b[32m'name'\u001b[0m: \u001b[32m'Huracán'\u001b[0m,\n",
       "        \u001b[32m'release_date'\u001b[0m: \u001b[32m'2021-11-18'\u001b[0m,\n",
       "        \u001b[32m'release_date_precision'\u001b[0m: \u001b[32m'day'\u001b[0m,\n",
       "        \u001b[32m'total_tracks'\u001b[0m: \u001b[1;36m21\u001b[0m,\n",
       "        \u001b[32m'type'\u001b[0m: \u001b[32m'album'\u001b[0m,\n",
       "        \u001b[32m'uri'\u001b[0m: \u001b[32m'spotify:album:1yM29w2suYVpMursUbXQMi'\u001b[0m\n",
       "    \u001b[1m}\u001b[0m,\n",
       "    \u001b[32m'artists'\u001b[0m: \u001b[1m[\u001b[0m\n",
       "        \u001b[1m{\u001b[0m\n",
       "            \u001b[32m'external_urls'\u001b[0m: \u001b[1m{\u001b[0m\u001b[32m'spotify'\u001b[0m: \u001b[32m'https://open.spotify.com/artist/4QFG9KrGWEbr6hNA58CAqE'\u001b[0m\u001b[1m}\u001b[0m,\n",
       "            \u001b[32m'href'\u001b[0m: \u001b[32m'https://api.spotify.com/v1/artists/4QFG9KrGWEbr6hNA58CAqE'\u001b[0m,\n",
       "            \u001b[32m'id'\u001b[0m: \u001b[32m'4QFG9KrGWEbr6hNA58CAqE'\u001b[0m,\n",
       "            \u001b[32m'name'\u001b[0m: \u001b[32m'Aleman'\u001b[0m,\n",
       "            \u001b[32m'type'\u001b[0m: \u001b[32m'artist'\u001b[0m,\n",
       "            \u001b[32m'uri'\u001b[0m: \u001b[32m'spotify:artist:4QFG9KrGWEbr6hNA58CAqE'\u001b[0m\n",
       "        \u001b[1m}\u001b[0m,\n",
       "        \u001b[1m{\u001b[0m\n",
       "            \u001b[32m'external_urls'\u001b[0m: \u001b[1m{\u001b[0m\u001b[32m'spotify'\u001b[0m: \u001b[32m'https://open.spotify.com/artist/5ET6v0l25osw5BzztPsMvD'\u001b[0m\u001b[1m}\u001b[0m,\n",
       "            \u001b[32m'href'\u001b[0m: \u001b[32m'https://api.spotify.com/v1/artists/5ET6v0l25osw5BzztPsMvD'\u001b[0m,\n",
       "            \u001b[32m'id'\u001b[0m: \u001b[32m'5ET6v0l25osw5BzztPsMvD'\u001b[0m,\n",
       "            \u001b[32m'name'\u001b[0m: \u001b[32m'Muelas De Gallo'\u001b[0m,\n",
       "            \u001b[32m'type'\u001b[0m: \u001b[32m'artist'\u001b[0m,\n",
       "            \u001b[32m'uri'\u001b[0m: \u001b[32m'spotify:artist:5ET6v0l25osw5BzztPsMvD'\u001b[0m\n",
       "        \u001b[1m}\u001b[0m,\n",
       "        \u001b[1m{\u001b[0m\n",
       "            \u001b[32m'external_urls'\u001b[0m: \u001b[1m{\u001b[0m\u001b[32m'spotify'\u001b[0m: \u001b[32m'https://open.spotify.com/artist/7I85Ma5xjAo6nlvqOCIiWx'\u001b[0m\u001b[1m}\u001b[0m,\n",
       "            \u001b[32m'href'\u001b[0m: \u001b[32m'https://api.spotify.com/v1/artists/7I85Ma5xjAo6nlvqOCIiWx'\u001b[0m,\n",
       "            \u001b[32m'id'\u001b[0m: \u001b[32m'7I85Ma5xjAo6nlvqOCIiWx'\u001b[0m,\n",
       "            \u001b[32m'name'\u001b[0m: \u001b[32m'Fntxy'\u001b[0m,\n",
       "            \u001b[32m'type'\u001b[0m: \u001b[32m'artist'\u001b[0m,\n",
       "            \u001b[32m'uri'\u001b[0m: \u001b[32m'spotify:artist:7I85Ma5xjAo6nlvqOCIiWx'\u001b[0m\n",
       "        \u001b[1m}\u001b[0m,\n",
       "        \u001b[1m{\u001b[0m\n",
       "            \u001b[32m'external_urls'\u001b[0m: \u001b[1m{\u001b[0m\u001b[32m'spotify'\u001b[0m: \u001b[32m'https://open.spotify.com/artist/4u1dsEB1FKbGcdG0EAvxP8'\u001b[0m\u001b[1m}\u001b[0m,\n",
       "            \u001b[32m'href'\u001b[0m: \u001b[32m'https://api.spotify.com/v1/artists/4u1dsEB1FKbGcdG0EAvxP8'\u001b[0m,\n",
       "            \u001b[32m'id'\u001b[0m: \u001b[32m'4u1dsEB1FKbGcdG0EAvxP8'\u001b[0m,\n",
       "            \u001b[32m'name'\u001b[0m: \u001b[32m'Jambene'\u001b[0m,\n",
       "            \u001b[32m'type'\u001b[0m: \u001b[32m'artist'\u001b[0m,\n",
       "            \u001b[32m'uri'\u001b[0m: \u001b[32m'spotify:artist:4u1dsEB1FKbGcdG0EAvxP8'\u001b[0m\n",
       "        \u001b[1m}\u001b[0m\n",
       "    \u001b[1m]\u001b[0m,\n",
       "    \u001b[32m'disc_number'\u001b[0m: \u001b[1;36m1\u001b[0m,\n",
       "    \u001b[32m'duration_ms'\u001b[0m: \u001b[1;36m289913\u001b[0m,\n",
       "    \u001b[32m'explicit'\u001b[0m: \u001b[3;92mTrue\u001b[0m,\n",
       "    \u001b[32m'external_ids'\u001b[0m: \u001b[1m{\u001b[0m\u001b[32m'isrc'\u001b[0m: \u001b[32m'QMDA72154014'\u001b[0m\u001b[1m}\u001b[0m,\n",
       "    \u001b[32m'external_urls'\u001b[0m: \u001b[1m{\u001b[0m\u001b[32m'spotify'\u001b[0m: \u001b[32m'https://open.spotify.com/track/07V6yFnZ8a6N35IzuIsUGl'\u001b[0m\u001b[1m}\u001b[0m,\n",
       "    \u001b[32m'href'\u001b[0m: \u001b[32m'https://api.spotify.com/v1/tracks/07V6yFnZ8a6N35IzuIsUGl'\u001b[0m,\n",
       "    \u001b[32m'id'\u001b[0m: \u001b[32m'07V6yFnZ8a6N35IzuIsUGl'\u001b[0m,\n",
       "    \u001b[32m'is_local'\u001b[0m: \u001b[3;91mFalse\u001b[0m,\n",
       "    \u001b[32m'name'\u001b[0m: \u001b[32m'So High'\u001b[0m,\n",
       "    \u001b[32m'popularity'\u001b[0m: \u001b[1;36m55\u001b[0m,\n",
       "    \u001b[32m'preview_url'\u001b[0m: \n",
       "\u001b[32m'https://p.scdn.co/mp3-preview/ec16ee0203d54a8c26765ee8c34d194103e44add?\u001b[0m\u001b[32mcid\u001b[0m\u001b[32m=\u001b[0m\u001b[32m5a0ffed4bc0642d794ffd4ab473c1b8f\u001b[0m\u001b[32m'\u001b[0m,\n",
       "    \u001b[32m'track_number'\u001b[0m: \u001b[1;36m18\u001b[0m,\n",
       "    \u001b[32m'type'\u001b[0m: \u001b[32m'track'\u001b[0m,\n",
       "    \u001b[32m'uri'\u001b[0m: \u001b[32m'spotify:track:07V6yFnZ8a6N35IzuIsUGl'\u001b[0m\n",
       "\u001b[1m}\u001b[0m\n"
      ]
     },
     "metadata": {},
     "output_type": "display_data"
    }
   ],
   "source": [
    "print(song)"
   ]
  },
  {
   "cell_type": "code",
   "execution_count": 25,
   "metadata": {},
   "outputs": [
    {
     "data": {
      "text/plain": [
       "3    10045\n",
       "Name: album.images, dtype: int64"
      ]
     },
     "execution_count": 25,
     "metadata": {},
     "output_type": "execute_result"
    }
   ],
   "source": [
    "pd.json_normalize([track['track']['track_info'] for track in data])['album.images'].apply(len).value_counts()"
   ]
  },
  {
   "cell_type": "code",
   "execution_count": null,
   "metadata": {},
   "outputs": [],
   "source": []
  }
 ],
 "metadata": {
  "kernelspec": {
   "display_name": ".venv",
   "language": "python",
   "name": "python3"
  },
  "language_info": {
   "codemirror_mode": {
    "name": "ipython",
    "version": 3
   },
   "file_extension": ".py",
   "mimetype": "text/x-python",
   "name": "python",
   "nbconvert_exporter": "python",
   "pygments_lexer": "ipython3",
   "version": "3.10.6"
  },
  "orig_nbformat": 4,
  "vscode": {
   "interpreter": {
    "hash": "a239d03b2df57c6cc186a6c6180006d190586b8323edcac52e69de623776c524"
   }
  }
 },
 "nbformat": 4,
 "nbformat_minor": 2
}
